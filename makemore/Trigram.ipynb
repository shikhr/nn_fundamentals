{
 "cells": [
  {
   "cell_type": "code",
   "execution_count": 689,
   "id": "fa841815-161e-46fe-9c19-253a103576b9",
   "metadata": {},
   "outputs": [],
   "source": [
    "import torch\n",
    "from torch import nn\n",
    "import torch.nn.functional as F\n",
    "import matplotlib.pyplot as plt\n",
    "%matplotlib inline"
   ]
  },
  {
   "cell_type": "code",
   "execution_count": 690,
   "id": "99dbad69-69ce-4cb6-b21f-bdbf9133f0d5",
   "metadata": {},
   "outputs": [],
   "source": [
    "words = open(\"names.txt\").read().splitlines()"
   ]
  },
  {
   "cell_type": "code",
   "execution_count": 691,
   "id": "51d7662f-6190-464d-b1c0-6c5a600a511a",
   "metadata": {},
   "outputs": [],
   "source": [
    "chars = ['.'] + sorted(list(set(''.join(words))))\n",
    "stoi = {s: i for i, s in enumerate(chars)}\n",
    "itos = {i: s for s, i in stoi.items()}"
   ]
  },
  {
   "cell_type": "markdown",
   "id": "7b12b99b-156f-4ce6-86d4-8d46281af8ed",
   "metadata": {},
   "source": [
    "## Count Based"
   ]
  },
  {
   "cell_type": "code",
   "execution_count": 692,
   "id": "4aeb514f-cf34-4252-b6ee-515a7eed67e5",
   "metadata": {},
   "outputs": [],
   "source": [
    "N = torch.zeros((27, 27, 27), dtype=torch.int)"
   ]
  },
  {
   "cell_type": "code",
   "execution_count": 693,
   "id": "0316d406-3635-4b73-85d3-af13c8637a03",
   "metadata": {
    "scrolled": true
   },
   "outputs": [],
   "source": [
    "# calculating counts of trigrams\n",
    "for w in words[:]:\n",
    "    w = ['.'] + list(w) + ['.']\n",
    "    for i in range(len(w)-2):\n",
    "        a, b, c = w[i], w[i+1], w[i+2]\n",
    "        N[stoi[a], stoi[b], stoi[c]] += 1"
   ]
  },
  {
   "cell_type": "code",
   "execution_count": 694,
   "id": "de8fc7e2-94e1-4abe-8b9b-2409abc99fd3",
   "metadata": {
    "scrolled": true
   },
   "outputs": [],
   "source": [
    "# probabilites from counts\n",
    "P = (N+1).float()\n",
    "P /= P.sum(2,keepdim=True)"
   ]
  },
  {
   "cell_type": "code",
   "execution_count": null,
   "id": "76ee7a1f-b8e4-42f5-8717-a6281a1df8e3",
   "metadata": {
    "scrolled": true
   },
   "outputs": [],
   "source": []
  },
  {
   "cell_type": "code",
   "execution_count": 695,
   "id": "06bd5d9d-26ba-455f-9fe7-5d38718b8a2c",
   "metadata": {
    "scrolled": true
   },
   "outputs": [],
   "source": [
    "# bigram probabilites, helpful in generating the first two tokens for sampling\n",
    "B = N.sum(2, keepdim=True).float()\n",
    "B = B/B.sum(1, keepdim=True)\n",
    "B = B.reshape((27,27))"
   ]
  },
  {
   "cell_type": "code",
   "execution_count": null,
   "id": "f3ebf9f1-e61e-4f29-a03c-a8f876a3fec6",
   "metadata": {
    "scrolled": true
   },
   "outputs": [],
   "source": []
  },
  {
   "cell_type": "code",
   "execution_count": 696,
   "id": "6ebdf5fd-78f3-4324-8916-9062b43ceb07",
   "metadata": {},
   "outputs": [
    {
     "name": "stdout",
     "output_type": "stream",
     "text": [
      "elysser.\n",
      "brynnah.\n",
      "moudszfkina.\n",
      "arach.\n",
      "nova.\n",
      "sama.\n",
      "en.\n",
      "ro.\n",
      "af.\n",
      "emelineshmeigae.\n"
     ]
    }
   ],
   "source": [
    "# generating from the trigram model\n",
    "for i in range(10):\n",
    "    ix1 = 0\n",
    "    ix2 = torch.multinomial(B[ix1], num_samples=1, replacement=True).item()\n",
    "    outputs = [itos[ix2]]\n",
    "    while True:\n",
    "        p = P[ix1, ix2]\n",
    "        x = torch.multinomial(p, num_samples=1, replacement=True).item()\n",
    "        outputs.append(itos[x])\n",
    "        ix1 = ix2\n",
    "        ix2 = x\n",
    "        if x == 0:\n",
    "            break\n",
    "    print(''.join(outputs))"
   ]
  },
  {
   "cell_type": "code",
   "execution_count": 697,
   "id": "03d4ef3c-b0d4-497f-bec7-ecdea01779ae",
   "metadata": {},
   "outputs": [
    {
     "name": "stdout",
     "output_type": "stream",
     "text": [
      "2.092747449874878\n"
     ]
    }
   ],
   "source": [
    "# evaluating loss\n",
    "nll = 0.0\n",
    "cnt = 0.0\n",
    "for w in words[:]:\n",
    "    w = ['.'] + list(w) + ['.']\n",
    "    for i in range(len(w)-2):\n",
    "        a, b, c = w[i], w[i+1], w[i+2]\n",
    "        prob = P[stoi[a], stoi[b], stoi[c]]\n",
    "        cnt+=1\n",
    "        logprob = torch.log(prob)\n",
    "        nll += logprob\n",
    "        # print(f'{a} {b} {c} : {prob.item():.4f} {logprob.item():.4f}')\n",
    "nll = -nll/cnt\n",
    "print(nll.item())"
   ]
  },
  {
   "cell_type": "code",
   "execution_count": null,
   "id": "8e7abb00-bf7c-43f1-815b-48b92f2d40a2",
   "metadata": {},
   "outputs": [],
   "source": []
  },
  {
   "cell_type": "markdown",
   "id": "77c2cd49-d76e-4119-aa29-94b57d04a33f",
   "metadata": {},
   "source": [
    "## Neural Network"
   ]
  },
  {
   "cell_type": "code",
   "execution_count": 698,
   "id": "881188c7-6d2e-465c-9986-4ec6120851d5",
   "metadata": {},
   "outputs": [],
   "source": [
    "xs = []\n",
    "ys = []\n",
    "\n",
    "for w in words[:]:\n",
    "    w = ['.'] + list(w) + ['.']\n",
    "    for i in range(len(w)-2):\n",
    "        a, b, c = w[i], w[i+1], w[i+2]\n",
    "        xs.append([stoi[a], stoi[b]])\n",
    "        ys.append(stoi[c])\n",
    "\n",
    "xs = torch.tensor(xs)\n",
    "ys = torch.tensor(ys)"
   ]
  },
  {
   "cell_type": "code",
   "execution_count": null,
   "id": "2b7838b8-34c8-4eba-8a4d-56df594a8ed5",
   "metadata": {
    "scrolled": true
   },
   "outputs": [],
   "source": []
  },
  {
   "cell_type": "code",
   "execution_count": 699,
   "id": "2399aa6a-a5b2-4186-8f87-20705e771b5a",
   "metadata": {},
   "outputs": [],
   "source": [
    "# stacking one hot encoded vectors\n",
    "a1 = F.one_hot(xs[:,0], num_classes=27)\n",
    "a2 = F.one_hot(xs[:,1], num_classes=27)\n",
    "xenc = torch.hstack((a1,a2)).float()\n",
    "nums = xenc.shape[0]"
   ]
  },
  {
   "cell_type": "code",
   "execution_count": 700,
   "id": "1b5bd039-0a3c-4f44-a737-3852f5683855",
   "metadata": {},
   "outputs": [],
   "source": [
    "# one layer model\n",
    "model = nn.Linear(54, 27)"
   ]
  },
  {
   "cell_type": "code",
   "execution_count": 701,
   "id": "6fc030c3-ddb0-4dc9-9e6d-6fed64271739",
   "metadata": {},
   "outputs": [],
   "source": [
    "# lossfn for calculating loss and optimizer for upadting gradient\n",
    "lossfn = nn.CrossEntropyLoss()\n",
    "optimizer = torch.optim.Adam(model.parameters(), lr=0.1)"
   ]
  },
  {
   "cell_type": "code",
   "execution_count": 702,
   "id": "c46004cc-0f48-42ed-b62b-e83935aedd6e",
   "metadata": {},
   "outputs": [
    {
     "name": "stdout",
     "output_type": "stream",
     "text": [
      "3.3074\n",
      "2.2413\n",
      "2.2375\n",
      "2.2369\n",
      "2.2367\n",
      "2.2366\n",
      "2.2366\n",
      "2.2365\n",
      "2.2365\n",
      "2.2365\n"
     ]
    }
   ],
   "source": [
    "# train\n",
    "epochs = 500\n",
    "for i in range(epochs):\n",
    "    y = model(xenc)\n",
    "    \n",
    "    loss = lossfn(y, ys)\n",
    "    \n",
    "    optimizer.zero_grad()\n",
    "    loss.backward()\n",
    "    optimizer.step()\n",
    "    if i % 50 == 0:\n",
    "        print(f'{loss.item():.4f}')"
   ]
  },
  {
   "cell_type": "code",
   "execution_count": null,
   "id": "efc93d03-c1fc-4caf-914c-29e6cc1185a2",
   "metadata": {},
   "outputs": [],
   "source": []
  },
  {
   "cell_type": "code",
   "execution_count": 703,
   "id": "603cbc3b-bf90-4c69-984e-aa46b1280881",
   "metadata": {},
   "outputs": [
    {
     "name": "stdout",
     "output_type": "stream",
     "text": [
      "adrahrais.\n",
      "eva.\n",
      "semi.\n",
      "almire.\n",
      "ze.\n",
      "panahamur.\n",
      "selarih.\n",
      "oca.\n",
      "kyn.\n",
      "carmeroa.\n"
     ]
    }
   ],
   "source": [
    "# generate\n",
    "for i in range(10):\n",
    "    ix1 = 0\n",
    "    ix2 = torch.multinomial(B[ix1], num_samples=1, replacement=True).item()\n",
    "    outputs = [itos[ix2]]\n",
    "    while True:\n",
    "        x1 = F.one_hot(torch.tensor(ix1), num_classes=27)\n",
    "        x2 = F.one_hot(torch.tensor(ix2), num_classes=27)\n",
    "        xenct = torch.hstack((x1,x2)).float()\n",
    "        y = model(xenct)\n",
    "        p = torch.softmax(y,0)\n",
    "        x = torch.multinomial(p, num_samples=1, replacement=True).item()\n",
    "        outputs.append(itos[x])\n",
    "        ix1 = ix2\n",
    "        ix2 = x\n",
    "        if x == 0:\n",
    "            break\n",
    "    print(''.join(outputs))"
   ]
  },
  {
   "cell_type": "code",
   "execution_count": null,
   "id": "d8b076a3-04b8-4fd3-85bb-18d1d85b39b2",
   "metadata": {},
   "outputs": [],
   "source": []
  },
  {
   "cell_type": "code",
   "execution_count": null,
   "id": "f47185a9-4132-4ec9-a592-fa9bfaa7d9d3",
   "metadata": {},
   "outputs": [],
   "source": []
  }
 ],
 "metadata": {
  "kernelspec": {
   "display_name": "Python 3 (ipykernel)",
   "language": "python",
   "name": "python3"
  },
  "language_info": {
   "codemirror_mode": {
    "name": "ipython",
    "version": 3
   },
   "file_extension": ".py",
   "mimetype": "text/x-python",
   "name": "python",
   "nbconvert_exporter": "python",
   "pygments_lexer": "ipython3",
   "version": "3.12.3"
  }
 },
 "nbformat": 4,
 "nbformat_minor": 5
}
