{
 "cells": [
  {
   "cell_type": "code",
   "execution_count": 229,
   "id": "59d31940-a154-42be-9cc7-5e65564a41b2",
   "metadata": {},
   "outputs": [],
   "source": [
    "import torch\n",
    "from torch import nn\n",
    "import torch.nn.functional as F\n",
    "import matplotlib.pyplot as plt\n",
    "%matplotlib inline"
   ]
  },
  {
   "cell_type": "code",
   "execution_count": 230,
   "id": "4467aaa7-287e-4f92-aa02-0a33bc2ffaea",
   "metadata": {
    "scrolled": true
   },
   "outputs": [],
   "source": [
    "words = open('names.txt', 'r').read().splitlines()"
   ]
  },
  {
   "cell_type": "code",
   "execution_count": 231,
   "id": "33b15b7c-6a5d-4654-818c-20b4ac5be43a",
   "metadata": {},
   "outputs": [
    {
     "data": {
      "text/plain": [
       "['emma', 'olivia', 'ava', 'isabella', 'sophia']"
      ]
     },
     "execution_count": 231,
     "metadata": {},
     "output_type": "execute_result"
    }
   ],
   "source": [
    "words[:5]"
   ]
  },
  {
   "cell_type": "code",
   "execution_count": 477,
   "id": "cac1262e-1d2a-44f5-bc2c-41081e504af6",
   "metadata": {},
   "outputs": [],
   "source": [
    "# remove duplicate words\n",
    "# words = list(set(words))"
   ]
  },
  {
   "cell_type": "code",
   "execution_count": 232,
   "id": "9f64401d-ed90-44e1-89f0-622cdbc0dd9b",
   "metadata": {},
   "outputs": [],
   "source": [
    "chars =  ['.'] + sorted(list(set(''.join(words)))) \n",
    "stoi = {s: i for i, s in enumerate(chars)}\n",
    "itos = {i: s for s, i in stoi.items()}"
   ]
  },
  {
   "cell_type": "code",
   "execution_count": 233,
   "id": "8af0f9d8-5164-47b7-bc37-474a2f9226e9",
   "metadata": {
    "scrolled": true
   },
   "outputs": [
    {
     "name": "stdout",
     "output_type": "stream",
     "text": [
      "torch.Size([182625, 3]) torch.Size([182625])\n",
      "torch.Size([22655, 3]) torch.Size([22655])\n",
      "torch.Size([22866, 3]) torch.Size([22866])\n"
     ]
    }
   ],
   "source": [
    "# dataset\n",
    "block_size = 3\n",
    "def build_dataset(words):\n",
    "    X, Y = [], []\n",
    "    for w in words:\n",
    "        # print(w)\n",
    "        context = [0]*block_size\n",
    "        for ch in w + '.':\n",
    "            ix = stoi[ch]\n",
    "            X.append(context)\n",
    "            Y.append(ix)\n",
    "            # print(''.join(itos[i] for i in context), '-->', itos[ix])\n",
    "            context = context[1:]+[ix]\n",
    "        \n",
    "    X = torch.tensor(X)\n",
    "    Y = torch.tensor(Y)\n",
    "    print(X.shape, Y.shape)\n",
    "    return X, Y\n",
    "\n",
    "import random\n",
    "random.seed(42)\n",
    "random.shuffle(words)\n",
    "n1 = int(0.8*len(words))\n",
    "n2 = int(0.9*len(words))\n",
    "\n",
    "Xtr, Ytr = build_dataset(words[:n1])\n",
    "Xdev, Ydev = build_dataset(words[n1:n2])\n",
    "Xte, Yte = build_dataset(words[n2:])\n"
   ]
  },
  {
   "cell_type": "code",
   "execution_count": null,
   "id": "260141de-bf3a-43a5-83c8-9d3da51caf37",
   "metadata": {},
   "outputs": [],
   "source": []
  },
  {
   "cell_type": "code",
   "execution_count": 234,
   "id": "5d52bd90-7a6a-4947-8e1e-94af534b2331",
   "metadata": {},
   "outputs": [],
   "source": [
    "class Linear:\n",
    "    def __init__(self, fan_in, fan_out, bias=True):\n",
    "        self.weight = torch.randn((fan_in, fan_out)) / fan_in**0.5 # kaiming init\n",
    "        self.bias = torch.randn(fan_out) if bias else None\n",
    "\n",
    "    def __call__(self, x):\n",
    "        self.out = x @ self.weight\n",
    "        if self.bias is not None:\n",
    "            self.out += self.bias\n",
    "        return self.out\n",
    "\n",
    "    def parameters(self):\n",
    "        return [self.weight] + ([] if self.bias is None else [self.bias])\n",
    "        "
   ]
  },
  {
   "cell_type": "code",
   "execution_count": 235,
   "id": "526ee967-2b7f-4868-b4c4-7046a325692d",
   "metadata": {},
   "outputs": [],
   "source": [
    "class BatchNorm1d:\n",
    "    def __init__(self, dim, eps=1e-05, momentum=0.1):\n",
    "        self.eps = eps\n",
    "        self.momentum = momentum\n",
    "        self.training = True\n",
    "        # parameters\n",
    "        self.gamma = torch.ones(dim)\n",
    "        self.beta = torch.zeros(dim)\n",
    "        # buffer for momentum update\n",
    "        self.running_mean = torch.zeros(dim)\n",
    "        self.running_var = torch.ones(dim)\n",
    "\n",
    "    def __call__(self, x):\n",
    "        if self.training:\n",
    "            xmean = x.mean(0, keepdim=True)\n",
    "            xvar = x.var(0, keepdim=True)\n",
    "        else:\n",
    "            xmean = self.running_mean\n",
    "            xvar = self.running_var\n",
    "        xhat = (x - xmean) / torch.sqrt(xvar + self.eps)\n",
    "        self.out = self.gamma * xhat + self.beta\n",
    "        if self.training:\n",
    "            self.running_mean = (1-self.momentum)*self.running_mean + self.momentum*xmean\n",
    "            self.running_var = (1-self.momentum)*self.running_var + self.momentum*xvar\n",
    "        return self.out\n",
    "\n",
    "    def parameters(self):\n",
    "        return [self.gamma, self.beta]"
   ]
  },
  {
   "cell_type": "code",
   "execution_count": 236,
   "id": "f6fffcf8-c11d-4077-9659-3cdc8ef184bf",
   "metadata": {},
   "outputs": [],
   "source": [
    "class Tanh:\n",
    "    def __call__(self, x):\n",
    "        self.out = torch.tanh(x)\n",
    "        return self.out\n",
    "    def parameters(self):\n",
    "        return []"
   ]
  },
  {
   "cell_type": "code",
   "execution_count": 237,
   "id": "6730ab8e-50d8-40c7-bbf1-594ba88a2c01",
   "metadata": {},
   "outputs": [],
   "source": [
    "class Embedding:\n",
    "    def __init__(self, num_embeddings, embedding_dim):\n",
    "        self.weight = torch.randn((num_embeddings, embedding_dim))\n",
    "\n",
    "    def __call__(self, IX):\n",
    "        self.out = self.weight[IX]\n",
    "        return self.out\n",
    "\n",
    "    def parameters(self):\n",
    "        return [self.weight]"
   ]
  },
  {
   "cell_type": "code",
   "execution_count": 238,
   "id": "b3980252-c3a8-412a-be56-67c801933333",
   "metadata": {},
   "outputs": [],
   "source": [
    "class Flatten:\n",
    "    def __call__(self, x):\n",
    "        self.out = x.view(x.shape[0], -1)\n",
    "        return self.out\n",
    "\n",
    "    def parameters(self):\n",
    "        return []"
   ]
  },
  {
   "cell_type": "code",
   "execution_count": 447,
   "id": "0677714d-02c6-4030-b103-818f8b52d450",
   "metadata": {},
   "outputs": [],
   "source": [
    "class Sequential:\n",
    "    def __init__(self, layers):\n",
    "        self.layers = layers\n",
    "\n",
    "    def __call__(self, x):\n",
    "        for layer in self.layers:\n",
    "            x = layer(x)\n",
    "        self.out = x\n",
    "        return self.out\n",
    "\n",
    "    def parameters(self):\n",
    "        return [p for layer in self.layers for p in layer.parameters()]\n",
    "    "
   ]
  },
  {
   "cell_type": "code",
   "execution_count": 448,
   "id": "6d34488d-fbca-450f-83a1-bc70f939b17c",
   "metadata": {},
   "outputs": [],
   "source": [
    "torch.manual_seed(42);"
   ]
  },
  {
   "cell_type": "code",
   "execution_count": 449,
   "id": "5f8b7ba2-e2f1-4076-ad5b-9d69df9ce548",
   "metadata": {},
   "outputs": [],
   "source": [
    "# x = torch.tensor([[[1., 2, 3],[2,3,4]], [[3., 1, 5],[2,3,6]], [[1., 5, 3],[1,2,4]]])"
   ]
  },
  {
   "cell_type": "code",
   "execution_count": null,
   "id": "bb0ff510-c9ff-4f92-80dd-a6dd25085c7b",
   "metadata": {},
   "outputs": [],
   "source": []
  },
  {
   "cell_type": "code",
   "execution_count": null,
   "id": "cdf934bc-247e-409c-a46e-4321eebf4dab",
   "metadata": {},
   "outputs": [],
   "source": []
  },
  {
   "cell_type": "code",
   "execution_count": 454,
   "id": "3b03ae44-94a6-4f07-99bb-d953b76108af",
   "metadata": {},
   "outputs": [
    {
     "name": "stdout",
     "output_type": "stream",
     "text": [
      "12097\n"
     ]
    }
   ],
   "source": [
    "n_embd = 10\n",
    "n_hidden = 200\n",
    "vocab_size = len(itos)\n",
    "\n",
    "model = Sequential([\n",
    "    Embedding(vocab_size, n_embd),\n",
    "    Flatten(),\n",
    "    Linear(n_embd * block_size, n_hidden, bias=False), BatchNorm1d(n_hidden), Tanh(),\n",
    "    Linear(n_hidden, vocab_size),\n",
    "])\n",
    "\n",
    "with torch.no_grad():\n",
    "    model.layers[-1].weight *= 0.1\n",
    "\n",
    "parameters = model.parameters()\n",
    "print(sum(p.nelement() for p in parameters))\n",
    "for p in parameters:\n",
    "    p.requires_grad = True\n"
   ]
  },
  {
   "cell_type": "code",
   "execution_count": null,
   "id": "cfbb7437-7bbf-46b5-8460-9b87c04b3bee",
   "metadata": {},
   "outputs": [],
   "source": []
  },
  {
   "cell_type": "code",
   "execution_count": 455,
   "id": "3fe19c04-6074-4994-b211-76120dbf16f4",
   "metadata": {},
   "outputs": [],
   "source": [
    "epochs = 200000\n",
    "et = epochs/10\n",
    "lr = 0.1\n",
    "batch_size = 32"
   ]
  },
  {
   "cell_type": "code",
   "execution_count": 456,
   "id": "58b6a556-5375-496e-9d13-0e05f84e6d4a",
   "metadata": {},
   "outputs": [],
   "source": [
    "lossi=[]\n",
    "stepi=[]\n",
    "ep = 0"
   ]
  },
  {
   "cell_type": "code",
   "execution_count": 457,
   "id": "32e415a9-8396-4b45-b108-51d73307a7b3",
   "metadata": {},
   "outputs": [
    {
     "name": "stdout",
     "output_type": "stream",
     "text": [
      "0/200000:  3.5515\n",
      "20000/200000:  1.9860\n",
      "40000/200000:  1.9766\n",
      "60000/200000:  2.1667\n",
      "80000/200000:  2.0230\n",
      "100000/200000:  1.9650\n",
      "120000/200000:  1.8850\n",
      "140000/200000:  1.9712\n",
      "160000/200000:  2.0711\n",
      "180000/200000:  1.9328\n",
      "CPU times: user 4min 41s, sys: 3.02 s, total: 4min 44s\n",
      "Wall time: 2min 22s\n"
     ]
    }
   ],
   "source": [
    "%%time\n",
    "# training\n",
    "for i in range(epochs):\n",
    "    # mini batch\n",
    "    ix = torch.randint(0,Xtr.shape[0],(batch_size,))\n",
    "    Xb, Yb = Xtr[ix], Ytr[ix]\n",
    "    \n",
    "    #forward \n",
    "    logits = model(Xb)\n",
    "        \n",
    "    # loss\n",
    "    loss = F.cross_entropy(logits, Yb)\n",
    "\n",
    "    if i > 100000: lr = 0.01\n",
    "        \n",
    "    # backward\n",
    "    for p in parameters:\n",
    "        p.grad = None\n",
    "    loss.backward()\n",
    "    for p in parameters:\n",
    "        p.data += -lr*p.grad\n",
    "    \n",
    "    # track stats \n",
    "    stepi.append(ep)\n",
    "    lossi.append(loss.log10().item())\n",
    "    ep+=1\n",
    "\n",
    "    if i%et==0:\n",
    "        print(f'{i}/{epochs}:  {loss.item():.4f}')\n",
    "    # break"
   ]
  },
  {
   "cell_type": "code",
   "execution_count": 458,
   "id": "68bb8bed-bce3-470e-bc67-71fb187ff41c",
   "metadata": {},
   "outputs": [
    {
     "data": {
      "text/plain": [
       "[<matplotlib.lines.Line2D at 0x706f50ba3e80>]"
      ]
     },
     "execution_count": 458,
     "metadata": {},
     "output_type": "execute_result"
    },
    {
     "data": {
      "image/png": "[encoded data removed]",
      "text/plain": [
       "<Figure size 640x480 with 1 Axes>"
      ]
     },
     "metadata": {},
     "output_type": "display_data"
    }
   ],
   "source": [
    "lossview = torch.tensor(lossi).view(-1, 1000).mean(1)\n",
    "plt.plot(lossview)\n"
   ]
  },
  {
   "cell_type": "code",
   "execution_count": 459,
   "id": "9976923c-6647-4e0d-b36f-116e7dba8dab",
   "metadata": {},
   "outputs": [],
   "source": [
    "for layer in model.layers:\n",
    "    layer.training = False"
   ]
  },
  {
   "cell_type": "code",
   "execution_count": 460,
   "id": "7c9fcdc9-af89-4919-97c5-ecb9a258f3a3",
   "metadata": {},
   "outputs": [
    {
     "name": "stdout",
     "output_type": "stream",
     "text": [
      "2.063222646713257\n",
      "2.1092844009399414\n",
      "2.105964422225952\n"
     ]
    }
   ],
   "source": [
    "@torch.no_grad()\n",
    "def split_loss(split):\n",
    "    x,y = {\n",
    "        'train': (Xtr, Ytr),\n",
    "        'dev': (Xdev, Ydev),\n",
    "        'test': (Xte, Yte)\n",
    "    }[split]\n",
    "    \n",
    "    logits = model(x)\n",
    "    loss = F.cross_entropy(logits, y)\n",
    "    print(loss.item())\n",
    "\n",
    "split_loss('train')\n",
    "split_loss('dev')\n",
    "split_loss('test')"
   ]
  },
  {
   "cell_type": "code",
   "execution_count": null,
   "id": "3b8aed97-72c4-4876-891f-2613c2c6a118",
   "metadata": {},
   "outputs": [],
   "source": []
  },
  {
   "cell_type": "code",
   "execution_count": 473,
   "id": "2710c430-adfc-4643-967d-9630231313b3",
   "metadata": {},
   "outputs": [
    {
     "name": "stdout",
     "output_type": "stream",
     "text": [
      "emalia.\n",
      "mehoine.\n",
      "asia.\n",
      "melah.\n",
      "ayverynd.\n",
      "aocizy.\n",
      "hel.\n",
      "katell.\n",
      "cassilanne.\n",
      "asleigust.\n",
      "derensleigh.\n",
      "hashsana.\n",
      "azryn.\n",
      "joni.\n",
      "lice.\n"
     ]
    }
   ],
   "source": [
    "def generate(inp='...'):\n",
    "    output = []\n",
    "    context = [stoi[f] for f in list(inp)]\n",
    "    context = context[:3]\n",
    "    while True:\n",
    "        x = torch.tensor([context])\n",
    "        logits = model(x)\n",
    "        p = torch.softmax(logits, 1)\n",
    "        ix = torch.multinomial(p, num_samples=1, replacement=True).item()\n",
    "        output.append(itos[ix])\n",
    "        context = context[1:]+[ix]\n",
    "        if ix == 0:\n",
    "            break\n",
    "    return ''.join(output)\n",
    "\n",
    "for i in range(15):\n",
    "    out = generate()\n",
    "    print(out)"
   ]
  },
  {
   "cell_type": "code",
   "execution_count": null,
   "id": "f4c935cc-70ad-4c48-ac65-56607cf1258a",
   "metadata": {},
   "outputs": [],
   "source": []
  },
  {
   "cell_type": "code",
   "execution_count": null,
   "id": "a32753ad-f531-4437-8fd4-ec4dd73676c9",
   "metadata": {},
   "outputs": [],
   "source": []
  },
  {
   "cell_type": "code",
   "execution_count": null,
   "id": "3703e1ae-18f1-4c19-9ea2-2691ddc1baf7",
   "metadata": {},
   "outputs": [],
   "source": []
  }
 ],
 "metadata": {
  "kernelspec": {
   "display_name": "Python 3 (ipykernel)",
   "language": "python",
   "name": "python3"
  },
  "language_info": {
   "codemirror_mode": {
    "name": "ipython",
    "version": 3
   },
   "file_extension": ".py",
   "mimetype": "text/x-python",
   "name": "python",
   "nbconvert_exporter": "python",
   "pygments_lexer": "ipython3",
   "version": "3.10.13"
  }
 },
 "nbformat": 4,
 "nbformat_minor": 5
}
