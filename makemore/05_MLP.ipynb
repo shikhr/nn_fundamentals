{
 "cells": [
  {
   "cell_type": "code",
   "execution_count": 1,
   "id": "59d31940-a154-42be-9cc7-5e65564a41b2",
   "metadata": {},
   "outputs": [],
   "source": [
    "import torch\n",
    "from torch import nn\n",
    "import torch.nn.functional as F\n",
    "import matplotlib.pyplot as plt\n",
    "%matplotlib inline"
   ]
  },
  {
   "cell_type": "code",
   "execution_count": 2,
   "id": "4467aaa7-287e-4f92-aa02-0a33bc2ffaea",
   "metadata": {
    "scrolled": true
   },
   "outputs": [],
   "source": [
    "words = open('names.txt', 'r').read().splitlines()"
   ]
  },
  {
   "cell_type": "code",
   "execution_count": 3,
   "id": "33b15b7c-6a5d-4654-818c-20b4ac5be43a",
   "metadata": {},
   "outputs": [
    {
     "data": {
      "text/plain": [
       "['emma', 'olivia', 'ava', 'isabella', 'sophia']"
      ]
     },
     "execution_count": 3,
     "metadata": {},
     "output_type": "execute_result"
    }
   ],
   "source": [
    "words[:5]"
   ]
  },
  {
   "cell_type": "code",
   "execution_count": 4,
   "id": "9f64401d-ed90-44e1-89f0-622cdbc0dd9b",
   "metadata": {},
   "outputs": [],
   "source": [
    "chars =  ['.'] + sorted(list(set(''.join(words)))) \n",
    "stoi = {s: i for i, s in enumerate(chars)}\n",
    "itos = {i: s for s, i in stoi.items()}"
   ]
  },
  {
   "cell_type": "code",
   "execution_count": 5,
   "id": "8af0f9d8-5164-47b7-bc37-474a2f9226e9",
   "metadata": {
    "scrolled": true
   },
   "outputs": [
    {
     "name": "stdout",
     "output_type": "stream",
     "text": [
      "torch.Size([182625, 3]) torch.Size([182625])\n",
      "torch.Size([22655, 3]) torch.Size([22655])\n",
      "torch.Size([22866, 3]) torch.Size([22866])\n"
     ]
    }
   ],
   "source": [
    "# dataset\n",
    "context_size = 3\n",
    "def build_dataset(words):\n",
    "    X, Y = [], []\n",
    "    for w in words:\n",
    "        # print(w)\n",
    "        context = [0]*context_size\n",
    "        for ch in w + '.':\n",
    "            ix = stoi[ch]\n",
    "            X.append(context)\n",
    "            Y.append(ix)\n",
    "            # print(''.join(itos[i] for i in context), '-->', itos[ix])\n",
    "            context = context[1:]+[ix]\n",
    "        \n",
    "    X = torch.tensor(X)\n",
    "    Y = torch.tensor(Y)\n",
    "    print(X.shape, Y.shape)\n",
    "    return X, Y\n",
    "\n",
    "import random\n",
    "random.seed(42)\n",
    "random.shuffle(words)\n",
    "n1 = int(0.8*len(words))\n",
    "n2 = int(0.9*len(words))\n",
    "\n",
    "Xtr, Ytr = build_dataset(words[:n1])\n",
    "Xdev, Ydev = build_dataset(words[n1:n2])\n",
    "Xte, Yte = build_dataset(words[n2:])\n"
   ]
  },
  {
   "cell_type": "code",
   "execution_count": 6,
   "id": "260141de-bf3a-43a5-83c8-9d3da51caf37",
   "metadata": {},
   "outputs": [],
   "source": [
    "emb_dim = 10\n",
    "hid_dim = 200\n",
    "vocab_size = len(itos)"
   ]
  },
  {
   "cell_type": "code",
   "execution_count": 7,
   "id": "5d52bd90-7a6a-4947-8e1e-94af534b2331",
   "metadata": {},
   "outputs": [],
   "source": [
    "C = torch.randn((vocab_size,emb_dim))\n",
    "W1 = torch.randn((context_size*emb_dim, hid_dim))  * ((5/3) / ((context_size*emb_dim)**0.5))\n",
    "# b1 = torch.randn(hid_dim)                 * 0.01 # not used since batch norm subtracts it\n",
    "W2 = torch.randn((hid_dim, vocab_size))            * 0.01\n",
    "b2 = torch.randn(vocab_size)    * 0\n",
    "\n",
    "# batchNorm parameters\n",
    "bngain = torch.ones((1, hid_dim))\n",
    "bnbias = torch.zeros((1, hid_dim))\n",
    "bnmean_running = torch.zeros((1, hid_dim))\n",
    "bnstd_running = torch.ones((1, hid_dim))\n",
    "\n",
    "parameters = [C, W1, W2, b2, bngain, bnbias]\n",
    "for p in parameters:\n",
    "    p.requires_grad = True"
   ]
  },
  {
   "cell_type": "code",
   "execution_count": 8,
   "id": "5e82d415-716f-47d3-865a-e68d6fde67bd",
   "metadata": {},
   "outputs": [
    {
     "data": {
      "text/plain": [
       "12097"
      ]
     },
     "execution_count": 8,
     "metadata": {},
     "output_type": "execute_result"
    }
   ],
   "source": [
    "sum(p.nelement() for p in parameters)"
   ]
  },
  {
   "cell_type": "code",
   "execution_count": 9,
   "id": "3fe19c04-6074-4994-b211-76120dbf16f4",
   "metadata": {},
   "outputs": [],
   "source": [
    "epochs = 200000\n",
    "et = epochs/10\n",
    "lr = 0.1\n",
    "batch_size = 32"
   ]
  },
  {
   "cell_type": "code",
   "execution_count": 10,
   "id": "58b6a556-5375-496e-9d13-0e05f84e6d4a",
   "metadata": {},
   "outputs": [],
   "source": [
    "lossi=[]\n",
    "stepi=[]\n",
    "ep = 0"
   ]
  },
  {
   "cell_type": "code",
   "execution_count": 11,
   "id": "32e415a9-8396-4b45-b108-51d73307a7b3",
   "metadata": {},
   "outputs": [
    {
     "name": "stdout",
     "output_type": "stream",
     "text": [
      "0/200000:  3.2759\n",
      "20000/200000:  2.0640\n",
      "40000/200000:  2.5796\n",
      "60000/200000:  2.0423\n",
      "80000/200000:  2.1228\n",
      "100000/200000:  1.7954\n",
      "120000/200000:  1.8527\n",
      "140000/200000:  2.1160\n",
      "160000/200000:  2.3326\n",
      "180000/200000:  1.9334\n",
      "CPU times: user 4min 36s, sys: 1.92 s, total: 4min 38s\n",
      "Wall time: 2min 19s\n"
     ]
    }
   ],
   "source": [
    "%%time\n",
    "# training\n",
    "for i in range(epochs):\n",
    "    # mini batch\n",
    "    ix = torch.randint(0,Xtr.shape[0],(batch_size,))\n",
    "\n",
    "    #forward \n",
    "    emb = C[Xtr[ix]]\n",
    "    emb_out = emb.view(emb.shape[0], -1)\n",
    "    # first linear layer\n",
    "    preact = emb_out @ W1 #  + b1 not used in batch norm\n",
    "    # batch norm\n",
    "    bnmeani = preact.mean(0, keepdim=True)\n",
    "    bnstdi = preact.std(0, keepdim=True)\n",
    "    preact = (preact - bnmeani)/bnstdi\n",
    "    preact = bngain * preact + bnbias\n",
    "    # buffers\n",
    "    with torch.no_grad():\n",
    "        bnmean_running = 0.999 * bnmean_running + 0.001 * bnmeani\n",
    "        bnstd_running = 0.999 * bnstd_running + 0.001 * bnstdi\n",
    "    # activation\n",
    "    h = torch.tanh(preact)\n",
    "    # second linear layer\n",
    "    logits = h @ W2 + b2\n",
    "\n",
    "    # loss\n",
    "    loss = F.cross_entropy(logits, Ytr[ix])\n",
    "\n",
    "    if i > 100000:\n",
    "        lr = 0.01\n",
    "        \n",
    "    # backward\n",
    "    for p in parameters:\n",
    "        p.grad = None\n",
    "    loss.backward()\n",
    "    for p in parameters:\n",
    "        p.data += -lr*p.grad\n",
    "    \n",
    "    # track stats \n",
    "    stepi.append(ep)\n",
    "    lossi.append(loss.log10().item())\n",
    "    ep+=1\n",
    "\n",
    "    if i%et==0:\n",
    "        print(f'{i}/{epochs}:  {loss.item():.4f}')\n",
    "    # break"
   ]
  },
  {
   "cell_type": "code",
   "execution_count": 11,
   "id": "a5e47eee-9d69-40b2-adec-e5592a29969b",
   "metadata": {},
   "outputs": [],
   "source": [
    "# # logits[0]\n",
    "# plt.hist(h.view(-1).tolist(), 50);\n"
   ]
  },
  {
   "cell_type": "code",
   "execution_count": 37,
   "id": "c831ae82-7bb8-4028-82d7-0b9f11faef5e",
   "metadata": {},
   "outputs": [],
   "source": [
    "# plt.figure(figsize=(20,10))\n",
    "# plt.imshow(h.abs()>0.99, cmap='gray', interpolation='nearest')"
   ]
  },
  {
   "cell_type": "code",
   "execution_count": 42,
   "id": "4ec55ff5-d0d0-4717-a36a-2f65ef714092",
   "metadata": {},
   "outputs": [],
   "source": [
    "# calibrate the batch norm at the end of the training\n",
    "# or use running_mean and running_std of batchnorm while training \n",
    "# with torch.no_grad():\n",
    "#     emb = C[Xtr]\n",
    "#     embcat = emb.view(emb.shape[0], -1)\n",
    "#     preact = embcat @ W1 + b1\n",
    "#     bnmean = preact.mean(0, keepdim=True)\n",
    "#     bnstd = preact.std(0, keepdim=True)\n",
    "bnmean = bnmean_running\n",
    "bnstd = bnstd_running"
   ]
  },
  {
   "cell_type": "code",
   "execution_count": 55,
   "id": "7c9fcdc9-af89-4919-97c5-ecb9a258f3a3",
   "metadata": {},
   "outputs": [
    {
     "name": "stdout",
     "output_type": "stream",
     "text": [
      "torch.Size([182580, 30])\n",
      "2.071359872817993\n",
      "torch.Size([22767, 30])\n",
      "2.1140968799591064\n",
      "torch.Size([22799, 30])\n",
      "2.1186838150024414\n",
      "CPU times: user 416 ms, sys: 128 ms, total: 544 ms\n",
      "Wall time: 272 ms\n"
     ]
    }
   ],
   "source": [
    "%%time\n",
    "@torch.no_grad()\n",
    "def split_loss(split):\n",
    "    x,y = {\n",
    "        'train': (Xtr, Ytr),\n",
    "        'dev': (Xdev, Ydev),\n",
    "        'test': (Xte, Yte)\n",
    "    }[split]\n",
    "    emb = C[x]\n",
    "    emb_out = emb.view(emb.shape[0], -1)\n",
    "    print(emb_out.shape)\n",
    "    preact = emb_out @ W1\n",
    "    # preact = (preact - preact.mean(0, keepdim=True))/preact.std(0, keepdim=True)\n",
    "    preact = (preact - bnmean)/bnstd\n",
    "    preact = bngain * preact + bnbias\n",
    "    h = torch.tanh(preact)\n",
    "    logits = h @ W2 + b2\n",
    "    loss = F.cross_entropy(logits, y)\n",
    "    print(loss.item())\n",
    "\n",
    "split_loss('train')\n",
    "split_loss('dev')\n",
    "split_loss('test')"
   ]
  },
  {
   "cell_type": "code",
   "execution_count": null,
   "id": "4cbb6f62-d01d-4288-8470-60b2ca908c59",
   "metadata": {},
   "outputs": [],
   "source": []
  },
  {
   "cell_type": "code",
   "execution_count": 47,
   "id": "d0e44007-0a7e-4046-8784-5aaad5f0fd81",
   "metadata": {},
   "outputs": [
    {
     "data": {
      "text/plain": [
       "[<matplotlib.lines.Line2D at 0x767987cfabc0>]"
      ]
     },
     "execution_count": 47,
     "metadata": {},
     "output_type": "execute_result"
    },
    {
     "data": {
      "image/png": "[encoded data removed]",
      "text/plain": [
       "<Figure size 640x480 with 1 Axes>"
      ]
     },
     "metadata": {},
     "output_type": "display_data"
    }
   ],
   "source": [
    "plt.plot(stepi, lossi)"
   ]
  },
  {
   "cell_type": "code",
   "execution_count": 64,
   "id": "2710c430-adfc-4643-967d-9630231313b3",
   "metadata": {},
   "outputs": [
    {
     "name": "stdout",
     "output_type": "stream",
     "text": [
      "zyren.\n",
      "camei.\n",
      "ambriyah.\n",
      "aton.\n",
      "wila.\n",
      "rajtevon.\n",
      "bettilynnessa.\n",
      "amarystan.\n",
      "juan.\n",
      "jaisleiya.\n"
     ]
    }
   ],
   "source": [
    "for i in range(10):\n",
    "    context = [0]*context_size\n",
    "    output = []\n",
    "    while True:\n",
    "        emb = C[context]\n",
    "        emb_out = emb.view(1, -1)\n",
    "        preact = emb_out @ W1\n",
    "        preact = (preact - bnmean)/bnstd\n",
    "        preact = bngain * preact + bnbias\n",
    "        h = torch.tanh(preact)\n",
    "        logits = h @ W2 + b2\n",
    "        p = torch.softmax(logits, 1)\n",
    "        ix = torch.multinomial(p, num_samples=1, replacement=True).item()\n",
    "        output.append(itos[ix])\n",
    "        context = context[1:]+[ix]\n",
    "        if ix == 0:\n",
    "            break\n",
    "    print(''.join(output))"
   ]
  },
  {
   "cell_type": "code",
   "execution_count": null,
   "id": "f4c935cc-70ad-4c48-ac65-56607cf1258a",
   "metadata": {},
   "outputs": [],
   "source": []
  },
  {
   "cell_type": "code",
   "execution_count": null,
   "id": "a32753ad-f531-4437-8fd4-ec4dd73676c9",
   "metadata": {},
   "outputs": [],
   "source": []
  }
 ],
 "metadata": {
  "kernelspec": {
   "display_name": "Python 3 (ipykernel)",
   "language": "python",
   "name": "python3"
  },
  "language_info": {
   "codemirror_mode": {
    "name": "ipython",
    "version": 3
   },
   "file_extension": ".py",
   "mimetype": "text/x-python",
   "name": "python",
   "nbconvert_exporter": "python",
   "pygments_lexer": "ipython3",
   "version": "3.10.13"
  }
 },
 "nbformat": 4,
 "nbformat_minor": 5
}
