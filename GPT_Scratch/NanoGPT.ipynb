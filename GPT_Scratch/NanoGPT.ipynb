{
  "metadata": {
    "kernelspec": {
      "display_name": "Python 3",
      "name": "python3"
    },
    "language_info": {
      "name": "python",
      "version": "3.10.13",
      "mimetype": "text/x-python",
      "codemirror_mode": {
        "name": "ipython",
        "version": 3
      },
      "pygments_lexer": "ipython3",
      "nbconvert_exporter": "python",
      "file_extension": ".py"
    },
    "kaggle": {
      "accelerator": "gpu",
      "dataSources": [],
      "dockerImageVersionId": 30732,
      "isInternetEnabled": true,
      "language": "python",
      "sourceType": "notebook",
      "isGpuEnabled": true
    },
    "colab": {
      "name": "NanoGPT",
      "provenance": [],
      "gpuType": "T4"
    },
    "accelerator": "GPU"
  },
  "nbformat_minor": 0,
  "nbformat": 4,
  "cells": [
    {
      "cell_type": "code",
      "source": [
        "import torch\n",
        "from torch import nn\n",
        "import torch.nn.functional as F\n",
        "import math"
      ],
      "metadata": {
        "execution": {
          "iopub.status.busy": "2024-06-07T20:22:18.298588Z",
          "iopub.execute_input": "2024-06-07T20:22:18.298865Z",
          "iopub.status.idle": "2024-06-07T20:22:18.304509Z",
          "shell.execute_reply.started": "2024-06-07T20:22:18.298841Z",
          "shell.execute_reply": "2024-06-07T20:22:18.303553Z"
        },
        "trusted": true,
        "id": "vK1MfylxnY2F"
      },
      "execution_count": 24,
      "outputs": []
    },
    {
      "cell_type": "code",
      "source": [
        "! wget \"https://raw.githubusercontent.com/karpathy/char-rnn/master/data/tinyshakespeare/input.txt\""
      ],
      "metadata": {
        "execution": {
          "iopub.status.busy": "2024-06-07T20:22:18.307173Z"
        },
        "trusted": true,
        "id": "WUb9dek1nY2G",
        "outputId": "9d9d9a4f-135f-497f-f43d-30f081147284",
        "colab": {
          "base_uri": "https://localhost:8080/"
        }
      },
      "execution_count": 2,
      "outputs": [
        {
          "output_type": "stream",
          "name": "stdout",
          "text": [
            "--2024-06-08 06:54:43--  https://raw.githubusercontent.com/karpathy/char-rnn/master/data/tinyshakespeare/input.txt\n",
            "Resolving raw.githubusercontent.com (raw.githubusercontent.com)... 185.199.108.133, 185.199.109.133, 185.199.110.133, ...\n",
            "Connecting to raw.githubusercontent.com (raw.githubusercontent.com)|185.199.108.133|:443... connected.\n",
            "HTTP request sent, awaiting response... 200 OK\n",
            "Length: 1115394 (1.1M) [text/plain]\n",
            "Saving to: ‘input.txt’\n",
            "\n",
            "input.txt           100%[===================>]   1.06M  --.-KB/s    in 0.04s   \n",
            "\n",
            "2024-06-08 06:54:43 (26.8 MB/s) - ‘input.txt’ saved [1115394/1115394]\n",
            "\n"
          ]
        }
      ]
    },
    {
      "cell_type": "code",
      "source": [
        "device = 'cuda' if torch.cuda.is_available() else 'cpu'\n",
        "device"
      ],
      "metadata": {
        "trusted": true,
        "id": "3VVysyRfnY2H",
        "outputId": "7b35f66b-d070-403e-8b3b-6ac055828604",
        "colab": {
          "base_uri": "https://localhost:8080/",
          "height": 54
        }
      },
      "execution_count": 3,
      "outputs": [
        {
          "output_type": "execute_result",
          "data": {
            "text/plain": [
              "'cuda'"
            ],
            "application/vnd.google.colaboratory.intrinsic+json": {
              "type": "string"
            }
          },
          "metadata": {},
          "execution_count": 3
        }
      ]
    },
    {
      "cell_type": "code",
      "source": [
        "text = open(\"input.txt\").read()\n",
        "len(text)"
      ],
      "metadata": {
        "trusted": true,
        "id": "bDra-vfInY2I",
        "outputId": "e1f9ad66-3a47-43aa-aab6-bb5c1e26ea7b",
        "colab": {
          "base_uri": "https://localhost:8080/"
        }
      },
      "execution_count": 4,
      "outputs": [
        {
          "output_type": "execute_result",
          "data": {
            "text/plain": [
              "1115394"
            ]
          },
          "metadata": {},
          "execution_count": 4
        }
      ]
    },
    {
      "cell_type": "code",
      "source": [
        "print(text[:200])"
      ],
      "metadata": {
        "trusted": true,
        "id": "TRJT-sXDnY2J",
        "outputId": "de8c155d-afa2-4317-debc-0e022fc3548f",
        "colab": {
          "base_uri": "https://localhost:8080/"
        }
      },
      "execution_count": 5,
      "outputs": [
        {
          "output_type": "stream",
          "name": "stdout",
          "text": [
            "First Citizen:\n",
            "Before we proceed any further, hear me speak.\n",
            "\n",
            "All:\n",
            "Speak, speak.\n",
            "\n",
            "First Citizen:\n",
            "You are all resolved rather to die than to famish?\n",
            "\n",
            "All:\n",
            "Resolved. resolved.\n",
            "\n",
            "First Citizen:\n",
            "First, you\n"
          ]
        }
      ]
    },
    {
      "cell_type": "code",
      "source": [
        "chars = sorted(list(set(text)))\n",
        "vocab_size = len(chars)\n",
        "print(''.join(chars))\n",
        "print(vocab_size)"
      ],
      "metadata": {
        "trusted": true,
        "id": "UFQ9mvHnnY2J",
        "outputId": "9dbc893d-5975-4550-ac4f-7f89b81105c7",
        "colab": {
          "base_uri": "https://localhost:8080/"
        }
      },
      "execution_count": 6,
      "outputs": [
        {
          "output_type": "stream",
          "name": "stdout",
          "text": [
            "\n",
            " !$&',-.3:;?ABCDEFGHIJKLMNOPQRSTUVWXYZabcdefghijklmnopqrstuvwxyz\n",
            "65\n"
          ]
        }
      ]
    },
    {
      "cell_type": "code",
      "source": [
        "stoi = {s: i for i, s in enumerate(chars)}\n",
        "itos = {i: s for i, s in enumerate(chars)}\n",
        "encode = lambda s: [stoi[c] for c in s]\n",
        "decode = lambda l: ''.join([itos[i] for i in l])\n",
        "\n",
        "print(encode(\"hi there\"))\n",
        "print(decode(encode(\"hi there\")))"
      ],
      "metadata": {
        "trusted": true,
        "id": "nO1Ss07knY2K",
        "outputId": "3cc16c70-c56e-493c-d81a-ba41ead90f4d",
        "colab": {
          "base_uri": "https://localhost:8080/"
        }
      },
      "execution_count": 7,
      "outputs": [
        {
          "output_type": "stream",
          "name": "stdout",
          "text": [
            "[46, 47, 1, 58, 46, 43, 56, 43]\n",
            "hi there\n"
          ]
        }
      ]
    },
    {
      "cell_type": "code",
      "source": [
        "data = torch.tensor(encode(text), dtype=torch.long)\n",
        "print(data.shape, data.dtype)\n",
        "# print(data[:200])"
      ],
      "metadata": {
        "trusted": true,
        "id": "JKlLCoscnY2M",
        "outputId": "5a54ee17-5e7a-4dff-8ce7-a569762bc596",
        "colab": {
          "base_uri": "https://localhost:8080/"
        }
      },
      "execution_count": 8,
      "outputs": [
        {
          "output_type": "stream",
          "name": "stdout",
          "text": [
            "torch.Size([1115394]) torch.int64\n"
          ]
        }
      ]
    },
    {
      "cell_type": "code",
      "source": [
        "n = int(0.9 * len(data))\n",
        "train_data = data[:n]\n",
        "val_data = data[n:]\n",
        "train_data.shape, val_data.shape"
      ],
      "metadata": {
        "trusted": true,
        "id": "pOIh1UU6nY2N",
        "outputId": "e8daf998-6218-4eaf-e6f3-947ddbbbbcd6",
        "colab": {
          "base_uri": "https://localhost:8080/"
        }
      },
      "execution_count": 9,
      "outputs": [
        {
          "output_type": "execute_result",
          "data": {
            "text/plain": [
              "(torch.Size([1003854]), torch.Size([111540]))"
            ]
          },
          "metadata": {},
          "execution_count": 9
        }
      ]
    },
    {
      "cell_type": "code",
      "source": [
        "torch.manual_seed(1337)\n",
        "batch_size = 4\n",
        "block_size = 8"
      ],
      "metadata": {
        "trusted": true,
        "id": "ihRe-oEfnY2O"
      },
      "execution_count": 10,
      "outputs": []
    },
    {
      "cell_type": "code",
      "source": [
        "def get_batch(split):\n",
        "    data = train_data if split == 'train' else val_data\n",
        "    ix = torch.randint(len(data) - block_size, (batch_size,))\n",
        "    x = torch.stack([data[i:i+block_size] for i in ix])\n",
        "    y = torch.stack([data[i+1:i+block_size+1] for i in ix])\n",
        "    return x.to(device), y.to(device)\n",
        "\n",
        "xb, yb = get_batch('train')\n",
        "xb.shape, yb.shape, xb, yb"
      ],
      "metadata": {
        "trusted": true,
        "id": "zRbOgzDxnY2O",
        "outputId": "17f0015d-9c86-445e-c74d-d9738cf9dc95",
        "colab": {
          "base_uri": "https://localhost:8080/"
        }
      },
      "execution_count": 14,
      "outputs": [
        {
          "output_type": "execute_result",
          "data": {
            "text/plain": [
              "(torch.Size([128, 256]),\n",
              " torch.Size([128, 256]),\n",
              " tensor([[ 1, 63, 53,  ..., 46, 39, 57],\n",
              "         [ 1, 46, 39,  ...,  1, 46, 47],\n",
              "         [46, 63,  6,  ...,  0, 19, 24],\n",
              "         ...,\n",
              "         [53, 50, 42,  ..., 52, 41, 43],\n",
              "         [56,  6,  1,  ..., 46, 39, 42],\n",
              "         [43, 42,  1,  ..., 53, 56,  1]], device='cuda:0'),\n",
              " tensor([[63, 53, 59,  ..., 39, 57, 58],\n",
              "         [46, 39, 57,  ..., 46, 47, 51],\n",
              "         [63,  6,  1,  ..., 19, 24, 27],\n",
              "         ...,\n",
              "         [50, 42,  1,  ..., 41, 43, 56],\n",
              "         [ 6,  1, 51,  ..., 39, 42,  1],\n",
              "         [42,  1, 41,  ..., 56,  1, 57]], device='cuda:0'))"
            ]
          },
          "metadata": {},
          "execution_count": 14
        }
      ]
    },
    {
      "cell_type": "code",
      "source": [],
      "metadata": {
        "id": "o3xyWCzYnY2P"
      },
      "execution_count": 14,
      "outputs": []
    },
    {
      "cell_type": "markdown",
      "source": [
        "# Transformers Modules"
      ],
      "metadata": {
        "id": "kW_R1reSnY2Q"
      }
    },
    {
      "cell_type": "code",
      "source": [],
      "metadata": {
        "trusted": true,
        "id": "2yOAPO-tnY2S"
      },
      "execution_count": 14,
      "outputs": []
    },
    {
      "cell_type": "code",
      "source": [
        "# class Head(nn.Module):\n",
        "#     def __init__(self, head_size):\n",
        "#         super().__init__()\n",
        "#         self.key = nn.Linear(dmodel, head_size, bias = False)\n",
        "#         self.query = nn.Linear(dmodel, head_size, bias = False)\n",
        "#         self.value = nn.Linear(dmodel, head_size, bias = False)\n",
        "#         self.register_buffer('tril', torch.tril(torch.ones(block_size, block_size)))\n",
        "#         self.dropout = nn.Dropout(dropout)\n",
        "\n",
        "#     def forward(self, x):\n",
        "#         B, T, C = x.shape\n",
        "#         k = self.key(x)\n",
        "#         q = self.query(x)\n",
        "#         wei = q @ k.transpose(-2,-1) * C**-0.5\n",
        "#         wei = wei.masked_fill(self.tril[:T, :T]==0, float('-inf'))\n",
        "#         wei = F.softmax(wei, dim=-1)\n",
        "#         wei = self.dropout(wei)\n",
        "#         v = self.value(x)\n",
        "#         out = wei @ v\n",
        "#         return out\n",
        "\n",
        "# class MultiHeadAttentionV1(nn.Module):\n",
        "#     def __init__(self, num_heads, head_size):\n",
        "#         super().__init__()\n",
        "#         self.heads = nn.ModuleList([Head(head_size) for _ in range(num_heads)])\n",
        "#         self.proj = nn.Linear(dmodel, dmodel)\n",
        "#         self.dropout = nn.Dropout(dropout)\n",
        "\n",
        "#     def forward(self, x):\n",
        "#         out = torch.cat([h(x) for h in self.heads], dim=-1)\n",
        "#         out =  self.dropout(self.proj(out))\n",
        "#         return out"
      ],
      "metadata": {
        "trusted": true,
        "id": "Nkjywz33nY2S"
      },
      "execution_count": 15,
      "outputs": []
    },
    {
      "cell_type": "code",
      "source": [],
      "metadata": {
        "id": "aLM9zFxOnY2T"
      },
      "execution_count": 15,
      "outputs": []
    },
    {
      "cell_type": "code",
      "source": [
        "class MultiHeadAttentionV2(nn.Module):\n",
        "    def __init__(self, num_heads, dmodel):\n",
        "        super().__init__()\n",
        "        self.num_heads = num_heads\n",
        "        self.dropout = nn.Dropout(dropout)\n",
        "        self.kqv = nn.Linear(dmodel, 3*dmodel, bias = False)\n",
        "        self.proj = nn.Linear(dmodel, dmodel)\n",
        "        self.attn_dropout = nn.Dropout(dropout)\n",
        "        self.res_dropout = nn.Dropout(dropout)\n",
        "        self.register_buffer('tril', torch.tril(torch.ones(block_size, block_size)).view(1, 1, block_size, block_size))\n",
        "\n",
        "\n",
        "    def forward(self, x):\n",
        "        B, T, C = x.size()\n",
        "        h = self.num_heads\n",
        "        hs = C//h\n",
        "        k, q, v = self.kqv(x).split(dmodel, dim=2)\n",
        "\n",
        "        k = k.view(B, T, h, hs).transpose(1,2) # (B, h, T, C/h)\n",
        "        q = q.view(B, T, h, hs).transpose(1,2) # (B, h, T, C/h)\n",
        "        v = v.view(B, T, h, hs).transpose(1,2) # (B, h, T, C/h)\n",
        "\n",
        "        attn = (q @ k.transpose(-2,-1))/math.sqrt(hs) # (B, h, T, T)\n",
        "\n",
        "        attn = attn.masked_fill(self.tril[:, :, :T, :T]==0, float('-inf'))\n",
        "\n",
        "        attn = F.softmax(attn, dim=-1)\n",
        "\n",
        "        attn = self.attn_dropout(attn)\n",
        "        out = attn @ v # (B, h, T, C/h)\n",
        "\n",
        "        out = out.transpose(1,2).contiguous().view(B, T, C)\n",
        "        out =  self.res_dropout(self.proj(out))\n",
        "        return out"
      ],
      "metadata": {
        "execution": {
          "iopub.status.busy": "2024-06-07T21:24:52.506221Z",
          "iopub.execute_input": "2024-06-07T21:24:52.506558Z",
          "iopub.status.idle": "2024-06-07T21:24:52.517801Z",
          "shell.execute_reply.started": "2024-06-07T21:24:52.506533Z",
          "shell.execute_reply": "2024-06-07T21:24:52.516838Z"
        },
        "trusted": true,
        "id": "FuR_kq9xnY2T"
      },
      "execution_count": 25,
      "outputs": []
    },
    {
      "cell_type": "code",
      "source": [
        "class FeedForward(nn.Module):\n",
        "    def __init__(self, dmodel):\n",
        "        super().__init__()\n",
        "        self.net = nn.Sequential(\n",
        "            nn.Linear(dmodel, dmodel*4),\n",
        "            nn.ReLU(),\n",
        "            nn.Linear(dmodel*4, dmodel),\n",
        "            nn.Dropout(dropout)\n",
        "        )\n",
        "\n",
        "    def forward(self, x):\n",
        "        return self.net(x)"
      ],
      "metadata": {
        "execution": {
          "iopub.status.busy": "2024-06-07T21:24:52.978512Z",
          "iopub.execute_input": "2024-06-07T21:24:52.979125Z",
          "iopub.status.idle": "2024-06-07T21:24:52.985015Z",
          "shell.execute_reply.started": "2024-06-07T21:24:52.979091Z",
          "shell.execute_reply": "2024-06-07T21:24:52.984008Z"
        },
        "trusted": true,
        "id": "cDUyxWIanY2U"
      },
      "execution_count": 26,
      "outputs": []
    },
    {
      "cell_type": "code",
      "source": [
        "class Block(nn.Module):\n",
        "    def __init__(self, dmodel, n_head):\n",
        "        super().__init__()\n",
        "        self.sa = MultiHeadAttentionV2(n_head, dmodel)\n",
        "        self.ffwd = FeedForward(dmodel)\n",
        "        self.ln1 = nn.LayerNorm(dmodel)\n",
        "        self.ln2 = nn.LayerNorm(dmodel)\n",
        "\n",
        "    def forward(self, x):\n",
        "        x = x + self.sa(self.ln1(x)) # (B, T, C)\n",
        "        x = x + self.ffwd(self.ln2(x)) # (B, T, C) position wise\n",
        "        return x"
      ],
      "metadata": {
        "execution": {
          "iopub.status.busy": "2024-06-07T21:24:53.50673Z",
          "iopub.execute_input": "2024-06-07T21:24:53.507401Z",
          "iopub.status.idle": "2024-06-07T21:24:53.513457Z",
          "shell.execute_reply.started": "2024-06-07T21:24:53.50737Z",
          "shell.execute_reply": "2024-06-07T21:24:53.512534Z"
        },
        "trusted": true,
        "id": "N_A16bkwnY2V"
      },
      "execution_count": 27,
      "outputs": []
    },
    {
      "cell_type": "code",
      "source": [
        "# bigram\n",
        "\n",
        "class GPT(nn.Module):\n",
        "    def __init__(self, dmodel, n_head, n_layer):\n",
        "        super().__init__()\n",
        "        self.token_embedding_table = nn.Embedding(vocab_size, dmodel)\n",
        "        self.pos_embedding_table = nn.Embedding(block_size, dmodel)\n",
        "        self.blocks = nn.Sequential(*[ Block(dmodel, n_head=n_head) for _ in range(n_layer)])\n",
        "        self.ln_f = nn.LayerNorm(dmodel)\n",
        "        self.lm_head = nn.Linear(dmodel, vocab_size)\n",
        "\n",
        "    def forward(self, idx, targets=None):\n",
        "        B, T = idx.shape\n",
        "        tok_emb = self.token_embedding_table(idx) # (B, T, C)\n",
        "        pos_emb = self.pos_embedding_table(torch.arange(T, device=device)) # (T, C)\n",
        "        x = tok_emb + pos_emb # (B, T, C)\n",
        "        x = self.blocks(x)\n",
        "        x = self.ln_f(x)\n",
        "        logits = self.lm_head(x) # (B, T, V)\n",
        "\n",
        "        loss = None\n",
        "\n",
        "        if targets is not None:\n",
        "            B, T, C = logits.shape\n",
        "            logits = logits.view(B*T, C) # unpacking the batches of embeddings\n",
        "            targets = targets.view(B*T) # unpacking the batches of targets\n",
        "            loss = F.cross_entropy(logits, targets)\n",
        "        return logits, loss\n",
        "\n",
        "    def generate(self, idx, max_new_tokens):\n",
        "        for _ in range(max_new_tokens):\n",
        "            idx_cond = idx[:, -block_size:]\n",
        "            logits, loss = self(idx_cond)\n",
        "            logits = logits[:, -1, :] # (B, C)\n",
        "            probs = F.softmax(logits, 1)\n",
        "            idx_next = torch.multinomial(probs, 1)\n",
        "            print(decode(idx_next[0].tolist()), end=\"\")\n",
        "            idx = torch.cat((idx, idx_next), 1)\n",
        "        return idx"
      ],
      "metadata": {
        "execution": {
          "iopub.status.busy": "2024-06-07T21:24:53.981841Z",
          "iopub.execute_input": "2024-06-07T21:24:53.982197Z",
          "iopub.status.idle": "2024-06-07T21:24:53.993831Z",
          "shell.execute_reply.started": "2024-06-07T21:24:53.98217Z",
          "shell.execute_reply": "2024-06-07T21:24:53.992833Z"
        },
        "trusted": true,
        "id": "zjVz9DnHnY2W"
      },
      "execution_count": 28,
      "outputs": []
    },
    {
      "cell_type": "code",
      "source": [
        "dmodel=300\n",
        "batch_size = 64\n",
        "block_size = 128\n",
        "n_head = 6\n",
        "n_layer = 6\n",
        "dropout = 0.2\n",
        "lr = 5e-4"
      ],
      "metadata": {
        "execution": {
          "iopub.status.busy": "2024-06-07T21:29:18.275853Z",
          "iopub.execute_input": "2024-06-07T21:29:18.276253Z",
          "iopub.status.idle": "2024-06-07T21:29:18.281137Z",
          "shell.execute_reply.started": "2024-06-07T21:29:18.276223Z",
          "shell.execute_reply": "2024-06-07T21:29:18.280184Z"
        },
        "trusted": true,
        "id": "QIVz65nwnY2X"
      },
      "execution_count": 34,
      "outputs": []
    },
    {
      "cell_type": "code",
      "source": [
        "model = GPT(dmodel, n_head, n_layer)\n",
        "model.to(device)\n",
        "optimizer = torch.optim.AdamW(model.parameters(), lr=lr)\n"
      ],
      "metadata": {
        "execution": {
          "iopub.status.busy": "2024-06-07T21:29:18.687776Z",
          "iopub.execute_input": "2024-06-07T21:29:18.688211Z",
          "iopub.status.idle": "2024-06-07T21:29:18.973302Z",
          "shell.execute_reply.started": "2024-06-07T21:29:18.688182Z",
          "shell.execute_reply": "2024-06-07T21:29:18.972241Z"
        },
        "trusted": true,
        "id": "TgQdwNemnY2Y"
      },
      "execution_count": 35,
      "outputs": []
    },
    {
      "cell_type": "code",
      "source": [
        "%%time\n",
        "epochs = 10000\n",
        "et = epochs/10\n",
        "model.train()\n",
        "for epoch in range(epochs):\n",
        "    xb, yb = get_batch('train')\n",
        "    logits, loss = model(xb, yb)\n",
        "    optimizer.zero_grad()\n",
        "    loss.backward()\n",
        "    optimizer.step()\n",
        "    if epoch % et == 0:\n",
        "        print(f'{epoch} || loss: {loss:.4f}')"
      ],
      "metadata": {
        "execution": {
          "iopub.status.busy": "2024-06-07T21:25:14.876846Z",
          "iopub.execute_input": "2024-06-07T21:25:14.877842Z",
          "iopub.status.idle": "2024-06-07T21:28:36.175671Z",
          "shell.execute_reply.started": "2024-06-07T21:25:14.877808Z",
          "shell.execute_reply": "2024-06-07T21:28:36.174779Z"
        },
        "trusted": true,
        "id": "Xeunw4SYnY2Y",
        "outputId": "4bbc1745-bef1-43b8-a041-aa70a47f89e6",
        "colab": {
          "base_uri": "https://localhost:8080/"
        }
      },
      "execution_count": 36,
      "outputs": [
        {
          "output_type": "stream",
          "name": "stdout",
          "text": [
            "0 || loss: 4.3887\n",
            "1000 || loss: 1.5346\n",
            "2000 || loss: 1.3920\n",
            "3000 || loss: 1.3366\n",
            "4000 || loss: 1.3128\n",
            "5000 || loss: 1.2114\n",
            "6000 || loss: 1.2360\n",
            "7000 || loss: 1.1610\n",
            "8000 || loss: 1.1345\n",
            "9000 || loss: 1.0998\n",
            "CPU times: user 25min 11s, sys: 2.77 s, total: 25min 13s\n",
            "Wall time: 25min 21s\n"
          ]
        }
      ]
    },
    {
      "cell_type": "code",
      "source": [
        "with torch.no_grad():\n",
        "    model.eval()\n",
        "    context = torch.tensor([[0]], device = device)\n",
        "    out = model.generate(context, 2000)\n"
      ],
      "metadata": {
        "execution": {
          "iopub.status.busy": "2024-06-07T21:29:36.778257Z",
          "iopub.execute_input": "2024-06-07T21:29:36.779287Z",
          "iopub.status.idle": "2024-06-07T21:29:47.783227Z",
          "shell.execute_reply.started": "2024-06-07T21:29:36.779244Z",
          "shell.execute_reply": "2024-06-07T21:29:47.782168Z"
        },
        "trusted": true,
        "id": "YJYCfqhsnY2Z",
        "outputId": "9053f1a2-01da-4910-a1e5-198e5a3a8894",
        "colab": {
          "base_uri": "https://localhost:8080/"
        }
      },
      "execution_count": 43,
      "outputs": [
        {
          "output_type": "stream",
          "name": "stdout",
          "text": [
            "\n",
            "MENENIUS:\n",
            "Yea,'tis for proceed.\n",
            "\n",
            "CORIOLANUS:\n",
            "Let them like sure out.\n",
            "\n",
            "SICINIUS:\n",
            "We shall have attended their beachs.\n",
            "\n",
            "BRUTUS:\n",
            "You are enough new so little at you;\n",
            "Where'er the gates, you are men as as see,\n",
            "As you give the highway to noble fin's stand.\n",
            "\n",
            "GLOUCESTER:\n",
            "He does and heavenly to Tarpeian lords.\n",
            "\n",
            "BY:\n",
            "Now, noble lord, I warrant, if we saw in flaughth Grumio,\n",
            "Provided them both; therefore tell the world:\n",
            "What sail will I am your house to-morrow?\n",
            "\n",
            "KING RICHARD III:\n",
            "But stay, now I am dead.\n",
            "\n",
            "QUEEN ELIZABETH:\n",
            "Shall I gg, or worthy my face I be Leontes!\n",
            "\n",
            "ROMEO:\n",
            "By this marriage renown'd forth, for such charge\n",
            "Gave me to death, I bid my park about me,\n",
            "Before I tell my cousin, and my doubt,\n",
            "The other tribunes shall suffer scall my brother,\n",
            "But now have any more grace, than the many limbs;\n",
            "Whose modest length of your own remedies.\n",
            "I came from what advancement from the crown,\n",
            "Say is writ from your blood and with shrife attempt\n",
            "And bid the crown thine intelligence, grave's flack\n",
            "This geft action, make the breast of a paradise,\n",
            "To be calm to be so fast by, my lord.\n",
            "\n",
            "PRINCE EDWARD:\n",
            "Here was  ever too.\n",
            "\n",
            "GLOUCESTER:\n",
            "Fair sceptre, let's hand.\n",
            "\n",
            "PRINCE EDWARD:\n",
            "Madam, where else dost thou first? when learns my brother,\n",
            "Supperf much minimes, for this pure reverence,\n",
            "Her children cry 'God save the Duke!'\n",
            "And, beggar'd, changing, be my noise, here,\n",
            "Give 't me, embrace!\n",
            "\n",
            "COMINIUS:\n",
            "That the gods be give't not\n",
            "Respected enough; any man such as I hope have,\n",
            "When he did not common importing up,\n",
            "And cannot dry me again to cry from part\n",
            "The very time I let my joyful daughter, and\n",
            "Doth sell me with my holding had not satisfied.\n",
            "Daughter, that at the Dorset, is overtor'd Hereford's?\n",
            "Thou say'st sent enough to die.\n",
            "\n",
            "GLOUCESTER:\n",
            "See the Tower; thou dost slip her by the king;\n",
            "Hath he not supect me stand all, show'd me forth.\n",
            "It is some means for unto take him from that;\n",
            "For I have a value and would not spend judgment with trinks,\n",
            "And seek your faces.\n",
            "But come, sir, then, have you told you h"
          ]
        }
      ]
    },
    {
      "cell_type": "code",
      "source": [
        "torch.save(model.state_dict(), 'tiny_shakespearev2.pt')"
      ],
      "metadata": {
        "trusted": true,
        "id": "HdEgUvb4nY2Z"
      },
      "execution_count": 40,
      "outputs": []
    },
    {
      "cell_type": "code",
      "source": [
        "\n",
        "# model = GPT()\n",
        "# state_dict = torch.load('tiny_shakespearev2.pt', map_location=device)\n",
        "# model.load_state_dict(state_dict)\n",
        "# model.to(device);"
      ],
      "metadata": {
        "trusted": true,
        "id": "CsTdewEanY2a"
      },
      "execution_count": null,
      "outputs": []
    },
    {
      "cell_type": "code",
      "source": [
        "# # inference\n",
        "# with torch.no_grad():\n",
        "#     model.eval()\n",
        "#     context = torch.tensor([[0]], device = device)\n",
        "#     out = model.generate(context, 200000)\n",
        "#     # print(decode(out[0].tolist()))\n"
      ],
      "metadata": {
        "trusted": true,
        "id": "mOq8_Lr-nY2a"
      },
      "execution_count": null,
      "outputs": []
    },
    {
      "cell_type": "code",
      "source": [],
      "metadata": {
        "id": "s8a_RBdFnY2b"
      },
      "execution_count": null,
      "outputs": []
    }
  ]
}