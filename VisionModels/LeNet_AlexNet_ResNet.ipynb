{
 "cells": [
  {
   "cell_type": "code",
   "execution_count": 1,
   "id": "59519f74",
   "metadata": {
    "execution": {
     "iopub.execute_input": "2024-07-16T10:25:35.674395Z",
     "iopub.status.busy": "2024-07-16T10:25:35.674106Z",
     "iopub.status.idle": "2024-07-16T10:25:40.764941Z",
     "shell.execute_reply": "2024-07-16T10:25:40.764131Z"
    },
    "id": "B_nP1s_MxlWz",
    "papermill": {
     "duration": 5.099963,
     "end_time": "2024-07-16T10:25:40.767283",
     "exception": false,
     "start_time": "2024-07-16T10:25:35.667320",
     "status": "completed"
    },
    "tags": []
   },
   "outputs": [],
   "source": [
    "import torch\n",
    "import torch.nn as nn\n",
    "import torch.optim as optim\n",
    "import torchvision\n",
    "import torchvision.transforms as transforms\n",
    "from torch.utils.data import DataLoader\n",
    "import torch.nn.functional as F"
   ]
  },
  {
   "cell_type": "code",
   "execution_count": null,
   "id": "1d219220",
   "metadata": {
    "execution": {
     "iopub.execute_input": "2024-07-16T10:25:40.781193Z",
     "iopub.status.busy": "2024-07-16T10:25:40.779772Z",
     "iopub.status.idle": "2024-07-16T10:25:40.838731Z",
     "shell.execute_reply": "2024-07-16T10:25:40.837858Z"
    },
    "id": "mjt2GlHHPdzQ",
    "outputId": "2e5f2818-5d57-40d8-d68b-02d0b9d52a4a",
    "papermill": {
     "duration": 0.067438,
     "end_time": "2024-07-16T10:25:40.840717",
     "exception": false,
     "start_time": "2024-07-16T10:25:40.773279",
     "status": "completed"
    },
    "tags": []
   },
   "outputs": [],
   "source": [
    "device = 'cuda' if torch.cuda.is_available() else 'cpu'\n",
    "device"
   ]
  },
  {
   "cell_type": "code",
   "execution_count": 3,
   "id": "edf1e225",
   "metadata": {
    "execution": {
     "iopub.execute_input": "2024-07-16T10:25:40.852571Z",
     "iopub.status.busy": "2024-07-16T10:25:40.852290Z",
     "iopub.status.idle": "2024-07-16T10:25:40.858976Z",
     "shell.execute_reply": "2024-07-16T10:25:40.858171Z"
    },
    "id": "MRQwqHQeOjHP",
    "papermill": {
     "duration": 0.014791,
     "end_time": "2024-07-16T10:25:40.860844",
     "exception": false,
     "start_time": "2024-07-16T10:25:40.846053",
     "status": "completed"
    },
    "tags": []
   },
   "outputs": [],
   "source": [
    "def train(model, n_epochs, trainloader, optimizer, lossfn, print_iter=None):\n",
    "    \n",
    "    iter = 0\n",
    "    train_iters = len(trainloader)\n",
    "    if print_iter is None:\n",
    "        print_iter = train_iters//4\n",
    "    model.train()\n",
    "    for epoch in range(n_epochs):\n",
    "        for x, y in trainloader:\n",
    "            x = x.to(device)\n",
    "            y = y.to(device)\n",
    "            logits = model(x)\n",
    "            loss = lossfn(logits, y)\n",
    "\n",
    "            optimizer.zero_grad()\n",
    "            loss.backward()\n",
    "            optimizer.step()\n",
    "\n",
    "            if iter%print_iter == 0:\n",
    "                print(f'{epoch}:{iter} || loss: {loss.item():.4f}')\n",
    "            # print(f'{epoch}:{iter} || loss: {loss.item():.4f}')\n",
    "            iter+=1\n",
    "        print(f'Epoch done::{epoch}:{iter} || loss: {loss.item():.4f}')"
   ]
  },
  {
   "cell_type": "code",
   "execution_count": 4,
   "id": "b530df18",
   "metadata": {
    "execution": {
     "iopub.execute_input": "2024-07-16T10:25:40.872558Z",
     "iopub.status.busy": "2024-07-16T10:25:40.872052Z",
     "iopub.status.idle": "2024-07-16T10:25:40.877685Z",
     "shell.execute_reply": "2024-07-16T10:25:40.876888Z"
    },
    "id": "AktdJQojOlB6",
    "papermill": {
     "duration": 0.013803,
     "end_time": "2024-07-16T10:25:40.879799",
     "exception": false,
     "start_time": "2024-07-16T10:25:40.865996",
     "status": "completed"
    },
    "tags": []
   },
   "outputs": [],
   "source": [
    "@torch.no_grad()\n",
    "def evaluate(testloader, model):\n",
    "    model.eval()\n",
    "    totalcnt = 0\n",
    "    correctcnt = 0\n",
    "    for x,y in testloader:\n",
    "        x, y = x.to(device), y.to(device)\n",
    "        logits = model(x)\n",
    "        yhat = logits.argmax(1)\n",
    "        totalcnt += yhat.shape[0]\n",
    "        correctcnt += (yhat == y).sum().item()\n",
    "    print(totalcnt, correctcnt)\n",
    "    return correctcnt/totalcnt"
   ]
  },
  {
   "cell_type": "markdown",
   "id": "b0c0139d",
   "metadata": {
    "id": "jnm5bdMLOZzL",
    "papermill": {
     "duration": 0.005087,
     "end_time": "2024-07-16T10:25:40.890091",
     "exception": false,
     "start_time": "2024-07-16T10:25:40.885004",
     "status": "completed"
    },
    "tags": []
   },
   "source": [
    "# Lenet"
   ]
  },
  {
   "cell_type": "code",
   "execution_count": 5,
   "id": "86608d10",
   "metadata": {
    "execution": {
     "iopub.execute_input": "2024-07-16T10:25:40.901642Z",
     "iopub.status.busy": "2024-07-16T10:25:40.901392Z",
     "iopub.status.idle": "2024-07-16T10:25:40.906699Z",
     "shell.execute_reply": "2024-07-16T10:25:40.905874Z"
    },
    "id": "QgEI3U2_C5x8",
    "jupyter": {
     "source_hidden": true
    },
    "papermill": {
     "duration": 0.013306,
     "end_time": "2024-07-16T10:25:40.908570",
     "exception": false,
     "start_time": "2024-07-16T10:25:40.895264",
     "status": "completed"
    },
    "tags": []
   },
   "outputs": [],
   "source": [
    "# Define transformations for the training and test sets\n",
    "transform = transforms.Compose([transforms.ToTensor(), transforms.Normalize((0.5,), (0.5,))])\n",
    "\n",
    "# Load the MNIST datasets\n",
    "trainset = torchvision.datasets.MNIST(root='./data', train=True, download=True, transform=transform)\n",
    "trainloader = DataLoader(trainset, batch_size=256, shuffle=True)\n",
    "\n",
    "testset = torchvision.datasets.MNIST(root='./data', train=False, download=True, transform=transform)\n",
    "testloader = DataLoader(testset, batch_size=256, shuffle=False)\n",
    "\n",
    "\n",
    "class LeNet(nn.Module):\n",
    "    def __init__(self):\n",
    "        super(LeNet, self).__init__()\n",
    "\n",
    "        self.conv1 = nn.Conv2d(in_channels=1, out_channels=6, kernel_size=5, stride = 1)\n",
    "        self.batch1 = nn.BatchNorm2d(6)\n",
    "        self.maxpool1 = nn.MaxPool2d(2)\n",
    "\n",
    "        self.conv2 = nn.Conv2d(6, 16, 5, 1)\n",
    "        self.batch2 = nn.BatchNorm2d(16)\n",
    "        self.maxpool2 = nn.MaxPool2d(2)\n",
    "\n",
    "        self.l1 = nn.Linear(16*4*4, 120)\n",
    "        self.l2 = nn.Linear(120, 84)\n",
    "        self.l3 = nn.Linear(84, 10)\n",
    "\n",
    "        self.relu = nn.ReLU()\n",
    "\n",
    "\n",
    "    # defining the network flow\n",
    "    def forward(self, x):\n",
    "        out = self.relu(self.batch1(self.conv1(x)))\n",
    "        out = self.maxpool1(out)\n",
    "\n",
    "        out = self.relu(self.batch2(self.conv2(out)))\n",
    "        out = self.maxpool2(out)\n",
    "\n",
    "        out = out.view(out.shape[0], -1)\n",
    "\n",
    "        out = self.relu(self.l1(out))\n",
    "        out = self.relu(self.l2(out))\n",
    "        out = self.l3(out)\n",
    "\n",
    "        return out\n",
    "\n",
    "\n",
    "\n",
    "lenet = LeNet()\n",
    "lenet.to(device);\n",
    "\n",
    "optimizer = torch.optim.Adam(lenet.parameters(), lr=0.01)\n",
    "lossfn = nn.CrossEntropyLoss()\n",
    "\n",
    "n_epochs = 3\n",
    "\n",
    "train(lenet, 2, trainloader, optimizer, lossfn)\n",
    "\n",
    "print(evaluate(trainloader, lenet))\n",
    "\n",
    "print(evaluate(testloader, lenet))\n",
    "\n"
   ]
  },
  {
   "cell_type": "markdown",
   "id": "17fb823e",
   "metadata": {
    "id": "v3YDbe4eOwxJ",
    "papermill": {
     "duration": 0.005128,
     "end_time": "2024-07-16T10:25:40.918958",
     "exception": false,
     "start_time": "2024-07-16T10:25:40.913830",
     "status": "completed"
    },
    "tags": []
   },
   "source": [
    "# AlexNet"
   ]
  },
  {
   "cell_type": "code",
   "execution_count": 6,
   "id": "afce25e4",
   "metadata": {
    "execution": {
     "iopub.execute_input": "2024-07-16T10:25:40.931556Z",
     "iopub.status.busy": "2024-07-16T10:25:40.931292Z",
     "iopub.status.idle": "2024-07-16T10:25:40.936655Z",
     "shell.execute_reply": "2024-07-16T10:25:40.935849Z"
    },
    "id": "3BvvDblbckRE",
    "jupyter": {
     "source_hidden": true
    },
    "papermill": {
     "duration": 0.014279,
     "end_time": "2024-07-16T10:25:40.938490",
     "exception": false,
     "start_time": "2024-07-16T10:25:40.924211",
     "status": "completed"
    },
    "tags": []
   },
   "outputs": [],
   "source": [
    "transform = transforms.Compose([\n",
    "    transforms.ToTensor(),\n",
    "    transforms.Resize((227,227), antialias=True),\n",
    "    transforms.Normalize((0.5,), (0.5,))\n",
    "    ])\n",
    "\n",
    "trainset = torchvision.datasets.CIFAR10(root='./cifar10', train=True, download=True, transform=transform)\n",
    "testset = torchvision.datasets.CIFAR10(root='./cifar10', train=False, download=True, transform=transform)\n",
    "\n",
    "trainloader = DataLoader(trainset, 128, True)\n",
    "testloader = DataLoader(testset, 128, False)\n",
    "\n",
    "\n",
    "\n",
    "class AlexNet(nn.Module):\n",
    "  def __init__(self):\n",
    "    super(AlexNet, self).__init__()\n",
    "    self.conv1 = nn.Conv2d(3, 96, 11, 4, 0) #55\n",
    "    self.bn1 = nn.BatchNorm2d(96) # 27\n",
    "    self.conv2 = nn.Conv2d(96, 256, 5, 1, 2) # 27\n",
    "    self.bn2 = nn.BatchNorm2d(256) # 13\n",
    "    self.conv3 = nn.Conv2d(256, 384, 3, 1, 1) # 13\n",
    "    self.bn3 = nn.BatchNorm2d(384) # 13\n",
    "    self.conv4 = nn.Conv2d(384, 384, 3, 1, 1) # 13\n",
    "    self.bn4 = nn.BatchNorm2d(384) # 13\n",
    "    self.conv5 = nn.Conv2d(384, 256, 3, 1, 1) # 13\n",
    "    self.bn5 = nn.BatchNorm2d(256) # 6\n",
    "    self.fc1 = nn.Linear(6*6*256, 4096)\n",
    "    self.fc2 = nn.Linear(4096, 4096)\n",
    "    self.fc3 = nn.Linear(4096, 10)\n",
    "\n",
    "    self.pool = nn.MaxPool2d((3,3), stride=2)\n",
    "    self.relu = nn.ReLU()\n",
    "    self.dropout = nn.Dropout(0.5)\n",
    "\n",
    "  def forward(self, x):\n",
    "    x = self.pool(self.relu(self.bn1(self.conv1(x))))\n",
    "    x = self.pool(self.relu(self.bn2(self.conv2(x))))\n",
    "    x = self.relu(self.bn3(self.conv3(x)))\n",
    "    x = self.relu(self.bn4(self.conv4(x)))\n",
    "    x = self.pool(self.relu(self.bn5(self.conv5(x))))\n",
    "    x = x.view(x.shape[0], -1)\n",
    "    x = self.relu(self.fc1(self.dropout(x)))\n",
    "    x = self.relu(self.fc2(self.dropout(x)))\n",
    "    x = self.fc3(x)\n",
    "    return x\n",
    "\n",
    "\n",
    "alexnet = AlexNet()\n",
    "alexnet.to(device);\n",
    "\n",
    "\n",
    "\n",
    "optimizer = torch.optim.AdamW(alexnet.parameters(), lr = 0.005)\n",
    "lossfn = nn.CrossEntropyLoss()\n",
    "\n",
    "train(alexnet, 50, trainloader, optimizer, lossfn)\n",
    "\n",
    "print(evaluate(testloader, alexnet))\n",
    "\n",
    "evaluate(trainloader, alexnet)\n",
    "\n",
    "\n",
    "# torch.save(alexnet.state_dict(), 'alexnetv1.pt')"
   ]
  },
  {
   "cell_type": "markdown",
   "id": "e90a7ebe",
   "metadata": {
    "papermill": {
     "duration": 0.005078,
     "end_time": "2024-07-16T10:25:40.948904",
     "exception": false,
     "start_time": "2024-07-16T10:25:40.943826",
     "status": "completed"
    },
    "tags": []
   },
   "source": [
    "# ResNet"
   ]
  },
  {
   "cell_type": "code",
   "execution_count": null,
   "id": "c751b1ac",
   "metadata": {
    "execution": {
     "iopub.execute_input": "2024-07-16T10:25:40.960283Z",
     "iopub.status.busy": "2024-07-16T10:25:40.960027Z",
     "iopub.status.idle": "2024-07-16T10:25:48.049374Z",
     "shell.execute_reply": "2024-07-16T10:25:48.048399Z"
    },
    "papermill": {
     "duration": 7.097856,
     "end_time": "2024-07-16T10:25:48.051928",
     "exception": false,
     "start_time": "2024-07-16T10:25:40.954072",
     "status": "completed"
    },
    "tags": []
   },
   "outputs": [],
   "source": [
    "transform = transforms.Compose([\n",
    "    transforms.ToTensor(),\n",
    "    transforms.Resize((224,224), antialias=True),\n",
    "    transforms.Normalize((0.5,), (0.5,))\n",
    "    ])\n",
    "\n",
    "trainset = torchvision.datasets.CIFAR10(root='./cifar10', train=True, download=True, transform=transform)\n",
    "testset = torchvision.datasets.CIFAR10(root='./cifar10', train=False, download=True, transform=transform)\n",
    "\n",
    "trainloader = DataLoader(trainset, 128, True)\n",
    "testloader = DataLoader(testset, 128, False)\n"
   ]
  },
  {
   "cell_type": "code",
   "execution_count": 8,
   "id": "755585a6",
   "metadata": {
    "execution": {
     "iopub.execute_input": "2024-07-16T10:25:48.070640Z",
     "iopub.status.busy": "2024-07-16T10:25:48.070054Z",
     "iopub.status.idle": "2024-07-16T10:25:48.077959Z",
     "shell.execute_reply": "2024-07-16T10:25:48.076991Z"
    },
    "papermill": {
     "duration": 0.01925,
     "end_time": "2024-07-16T10:25:48.079906",
     "exception": false,
     "start_time": "2024-07-16T10:25:48.060656",
     "status": "completed"
    },
    "tags": []
   },
   "outputs": [],
   "source": [
    "class ResBlock(nn.Module):\n",
    "    def __init__(self, inp, out, stride=1, downsample=None):\n",
    "        super().__init__()\n",
    "        self.conv1 = nn.Conv2d(inp, out, 3, stride, 1, bias=False)\n",
    "        self.bn1 = nn.BatchNorm2d(out)\n",
    "        self.conv2 = nn.Conv2d(out, out, 3, 1, 1, bias=False)\n",
    "        self.bn2 = nn.BatchNorm2d(out)\n",
    "        self.downsample = downsample\n",
    "        self.relu = nn.ReLU()\n",
    "        \n",
    "    def forward(self, x):\n",
    "        out = self.relu(self.bn1(self.conv1(x)))\n",
    "        out = self.bn2(self.conv2(out))\n",
    "        if self.downsample is not None:\n",
    "            x = self.downsample(x)\n",
    "        out = self.relu(out + x)\n",
    "        return out\n",
    "    \n",
    "\n",
    "class ResNet(nn.Module):\n",
    "    def __init__(self):\n",
    "        super().__init__()\n",
    "        self.inplanes = 64\n",
    "        self.conv1 = nn.Conv2d(3, 64, 7, 2, 3, bias=False)\n",
    "        self.bn1 = nn.BatchNorm2d(64)\n",
    "        self.pool1 = nn.MaxPool2d(3, 2);\n",
    "        \n",
    "        self.l1 = self.make_layer(3, 64, 1)\n",
    "        self.l2 = self.make_layer(4, 128, 2)\n",
    "        self.l3 = self.make_layer(6, 256, 2)\n",
    "        self.l4 = self.make_layer(3, 512, 2)\n",
    "        \n",
    "        self.avgpool = nn.AvgPool2d(7);\n",
    "        self.fc = nn.Linear(512, 10)\n",
    "        \n",
    "        self.relu = nn.ReLU()\n",
    "        \n",
    "    def make_layer(self,num_layer, out, stride):\n",
    "        downsample = None\n",
    "        if stride != 1 or self.inplanes != out:\n",
    "            downsample = nn.Sequential(\n",
    "                nn.Conv2d(self.inplanes, out, 1, stride, bias = False),\n",
    "                nn.BatchNorm2d(out)\n",
    "            )\n",
    "        \n",
    "        layers = [ResBlock(self.inplanes, out, stride, downsample)]\n",
    "        self.inplanes = out\n",
    "        for i in range(1, num_layer):\n",
    "            layers.append(ResBlock(self.inplanes, out))\n",
    "        \n",
    "        return nn.Sequential(*layers)\n",
    "        \n",
    "        \n",
    "    def forward(self, x):\n",
    "        out = self.relu(self.bn1(self.conv1(x)))\n",
    "        out = F.pad(out, (1, 1, 1, 1), 'constant', 1)\n",
    "        out = self.pool1(out)\n",
    "        out = self.l1(out)\n",
    "        out = self.l2(out)\n",
    "        out = self.l3(out)\n",
    "        out = self.l4(out)\n",
    "        out = self.avgpool(out)\n",
    "        out = out.view(out.shape[0], -1)\n",
    "        out = self.fc(out)\n",
    "        return out"
   ]
  },
  {
   "cell_type": "code",
   "execution_count": 10,
   "id": "61bce7e9",
   "metadata": {
    "execution": {
     "iopub.execute_input": "2024-07-16T10:25:48.146802Z",
     "iopub.status.busy": "2024-07-16T10:25:48.146055Z",
     "iopub.status.idle": "2024-07-16T10:25:48.550430Z",
     "shell.execute_reply": "2024-07-16T10:25:48.549668Z"
    },
    "papermill": {
     "duration": 0.416472,
     "end_time": "2024-07-16T10:25:48.552714",
     "exception": false,
     "start_time": "2024-07-16T10:25:48.136242",
     "status": "completed"
    },
    "tags": []
   },
   "outputs": [],
   "source": [
    "resnet = ResNet()\n",
    "resnet.to(device);\n",
    "\n",
    "optimizer = torch.optim.Adam(resnet.parameters(), lr=0.05)\n",
    "lossfn = nn.CrossEntropyLoss()\n",
    "\n",
    "n_epochs = 25"
   ]
  },
  {
   "cell_type": "code",
   "execution_count": 11,
   "id": "d380de78",
   "metadata": {
    "execution": {
     "iopub.execute_input": "2024-07-16T10:25:48.571058Z",
     "iopub.status.busy": "2024-07-16T10:25:48.570775Z",
     "iopub.status.idle": "2024-07-16T11:18:22.902660Z",
     "shell.execute_reply": "2024-07-16T11:18:22.901576Z"
    },
    "papermill": {
     "duration": 3154.34366,
     "end_time": "2024-07-16T11:18:22.904918",
     "exception": false,
     "start_time": "2024-07-16T10:25:48.561258",
     "status": "completed"
    },
    "tags": []
   },
   "outputs": [
    {
     "name": "stdout",
     "output_type": "stream",
     "text": [
      "0:0 || loss: 2.4809\n",
      "0:97 || loss: 2.2780\n",
      "0:194 || loss: 2.2701\n",
      "0:291 || loss: 2.3027\n",
      "0:388 || loss: 2.0652\n",
      "Epoch done::0:391 || loss: 1.9919\n",
      "1:485 || loss: 1.8793\n",
      "1:582 || loss: 1.8794\n",
      "1:679 || loss: 1.6374\n",
      "1:776 || loss: 1.5290\n",
      "Epoch done::1:782 || loss: 1.6774\n",
      "2:873 || loss: 1.4741\n",
      "2:970 || loss: 1.3968\n",
      "2:1067 || loss: 1.4477\n",
      "2:1164 || loss: 1.3819\n",
      "Epoch done::2:1173 || loss: 1.3141\n",
      "3:1261 || loss: 1.2904\n",
      "3:1358 || loss: 1.2070\n",
      "3:1455 || loss: 1.1553\n",
      "3:1552 || loss: 1.2455\n",
      "Epoch done::3:1564 || loss: 1.1016\n",
      "4:1649 || loss: 1.0755\n",
      "4:1746 || loss: 1.0902\n",
      "4:1843 || loss: 0.9642\n",
      "4:1940 || loss: 0.9839\n",
      "Epoch done::4:1955 || loss: 1.1287\n",
      "5:2037 || loss: 0.9791\n",
      "5:2134 || loss: 1.1127\n",
      "5:2231 || loss: 0.9039\n",
      "5:2328 || loss: 0.8795\n",
      "Epoch done::5:2346 || loss: 1.0680\n",
      "6:2425 || loss: 0.7956\n",
      "6:2522 || loss: 0.6960\n",
      "6:2619 || loss: 0.7481\n",
      "6:2716 || loss: 0.8749\n",
      "Epoch done::6:2737 || loss: 0.7058\n",
      "7:2813 || loss: 0.5954\n",
      "7:2910 || loss: 0.5348\n",
      "7:3007 || loss: 0.6832\n",
      "7:3104 || loss: 0.5897\n",
      "Epoch done::7:3128 || loss: 0.8778\n",
      "8:3201 || loss: 0.6232\n",
      "8:3298 || loss: 0.5337\n",
      "8:3395 || loss: 0.5266\n",
      "8:3492 || loss: 0.6046\n",
      "Epoch done::8:3519 || loss: 0.6673\n",
      "9:3589 || loss: 0.6218\n",
      "9:3686 || loss: 0.4876\n",
      "9:3783 || loss: 0.3000\n",
      "9:3880 || loss: 0.5385\n",
      "Epoch done::9:3910 || loss: 0.3587\n",
      "10:3977 || loss: 0.4376\n",
      "10:4074 || loss: 0.2968\n",
      "10:4171 || loss: 0.3268\n",
      "10:4268 || loss: 0.3720\n",
      "Epoch done::10:4301 || loss: 0.5550\n",
      "11:4365 || loss: 0.5331\n",
      "11:4462 || loss: 0.4450\n",
      "11:4559 || loss: 0.2318\n",
      "11:4656 || loss: 0.4167\n",
      "Epoch done::11:4692 || loss: 0.4618\n",
      "12:4753 || loss: 0.3956\n",
      "12:4850 || loss: 0.3278\n",
      "12:4947 || loss: 0.3203\n",
      "12:5044 || loss: 0.4322\n",
      "Epoch done::12:5083 || loss: 0.1986\n",
      "13:5141 || loss: 0.2457\n",
      "13:5238 || loss: 0.3108\n",
      "13:5335 || loss: 0.3068\n",
      "13:5432 || loss: 0.2312\n",
      "Epoch done::13:5474 || loss: 0.4282\n",
      "14:5529 || loss: 0.1509\n",
      "14:5626 || loss: 0.2128\n",
      "14:5723 || loss: 0.3346\n",
      "14:5820 || loss: 0.3780\n",
      "Epoch done::14:5865 || loss: 0.1785\n",
      "15:5917 || loss: 0.1258\n",
      "15:6014 || loss: 0.1992\n",
      "15:6111 || loss: 0.3018\n",
      "15:6208 || loss: 0.3240\n",
      "Epoch done::15:6256 || loss: 0.4251\n",
      "16:6305 || loss: 0.1217\n",
      "16:6402 || loss: 0.2403\n",
      "16:6499 || loss: 0.1841\n",
      "16:6596 || loss: 0.2300\n",
      "Epoch done::16:6647 || loss: 0.2407\n",
      "17:6693 || loss: 0.1232\n",
      "17:6790 || loss: 0.2597\n",
      "17:6887 || loss: 0.1802\n",
      "17:6984 || loss: 0.3293\n",
      "Epoch done::17:7038 || loss: 0.2142\n",
      "18:7081 || loss: 0.1280\n",
      "18:7178 || loss: 0.1288\n",
      "18:7275 || loss: 0.1782\n",
      "18:7372 || loss: 0.2484\n",
      "Epoch done::18:7429 || loss: 0.2020\n",
      "19:7469 || loss: 0.0753\n",
      "19:7566 || loss: 0.0858\n",
      "19:7663 || loss: 0.0893\n",
      "19:7760 || loss: 0.1747\n",
      "Epoch done::19:7820 || loss: 0.1569\n",
      "20:7857 || loss: 0.1261\n",
      "20:7954 || loss: 0.0427\n",
      "20:8051 || loss: 0.0545\n",
      "20:8148 || loss: 0.2970\n",
      "Epoch done::20:8211 || loss: 0.1505\n",
      "21:8245 || loss: 0.0896\n",
      "21:8342 || loss: 0.0779\n",
      "21:8439 || loss: 0.1576\n",
      "21:8536 || loss: 0.2460\n",
      "Epoch done::21:8602 || loss: 0.1560\n",
      "22:8633 || loss: 0.0516\n",
      "22:8730 || loss: 0.0682\n",
      "22:8827 || loss: 0.0378\n",
      "22:8924 || loss: 0.1070\n",
      "Epoch done::22:8993 || loss: 0.0538\n",
      "23:9021 || loss: 0.1403\n",
      "23:9118 || loss: 0.0447\n",
      "23:9215 || loss: 0.0994\n",
      "23:9312 || loss: 0.1647\n",
      "Epoch done::23:9384 || loss: 0.0994\n",
      "24:9409 || loss: 0.0813\n",
      "24:9506 || loss: 0.0845\n",
      "24:9603 || loss: 0.1588\n",
      "24:9700 || loss: 0.0936\n",
      "Epoch done::24:9775 || loss: 0.2220\n",
      "CPU times: user 1h 6min 34s, sys: 6min 52s, total: 1h 13min 27s\n",
      "Wall time: 52min 34s\n"
     ]
    }
   ],
   "source": [
    "%%time\n",
    "train(resnet, n_epochs, trainloader, optimizer, lossfn)"
   ]
  },
  {
   "cell_type": "code",
   "execution_count": 12,
   "id": "77114714",
   "metadata": {
    "execution": {
     "iopub.execute_input": "2024-07-16T11:18:22.942109Z",
     "iopub.status.busy": "2024-07-16T11:18:22.941819Z",
     "iopub.status.idle": "2024-07-16T11:20:07.723309Z",
     "shell.execute_reply": "2024-07-16T11:20:07.722365Z"
    },
    "papermill": {
     "duration": 104.819501,
     "end_time": "2024-07-16T11:20:07.742519",
     "exception": false,
     "start_time": "2024-07-16T11:18:22.923018",
     "status": "completed"
    },
    "tags": []
   },
   "outputs": [
    {
     "name": "stdout",
     "output_type": "stream",
     "text": [
      "10000 8028\n",
      "0.8028\n",
      "50000 48477\n",
      "0.96954\n"
     ]
    }
   ],
   "source": [
    "print(evaluate(testloader, resnet))\n",
    "print(evaluate(trainloader, resnet))"
   ]
  },
  {
   "cell_type": "code",
   "execution_count": 13,
   "id": "96123a7c",
   "metadata": {
    "execution": {
     "iopub.execute_input": "2024-07-16T11:20:07.779192Z",
     "iopub.status.busy": "2024-07-16T11:20:07.778890Z",
     "iopub.status.idle": "2024-07-16T11:20:07.908798Z",
     "shell.execute_reply": "2024-07-16T11:20:07.907785Z"
    },
    "papermill": {
     "duration": 0.150887,
     "end_time": "2024-07-16T11:20:07.911159",
     "exception": false,
     "start_time": "2024-07-16T11:20:07.760272",
     "status": "completed"
    },
    "tags": []
   },
   "outputs": [],
   "source": [
    "# torch.save(resnet.state_dict(), 'resnet.pt')"
   ]
  }
 ],
 "metadata": {
  "accelerator": "GPU",
  "colab": {
   "collapsed_sections": [
    "xsXsRqgSPZoi",
    "N4x4LR6QPhiT"
   ],
   "gpuType": "T4",
   "provenance": []
  },
  "kaggle": {
   "accelerator": "gpu",
   "dataSources": [],
   "dockerImageVersionId": 30733,
   "isGpuEnabled": true,
   "isInternetEnabled": true,
   "language": "python",
   "sourceType": "notebook"
  },
  "kernelspec": {
   "display_name": "Python 3",
   "language": "python",
   "name": "python3"
  },
  "language_info": {
   "codemirror_mode": {
    "name": "ipython",
    "version": 3
   },
   "file_extension": ".py",
   "mimetype": "text/x-python",
   "name": "python",
   "nbconvert_exporter": "python",
   "pygments_lexer": "ipython3",
   "version": "3.10.13"
  },
  "papermill": {
   "default_parameters": {},
   "duration": 3276.358693,
   "end_time": "2024-07-16T11:20:09.295147",
   "environment_variables": {},
   "exception": null,
   "input_path": "__notebook__.ipynb",
   "output_path": "__notebook__.ipynb",
   "parameters": {},
   "start_time": "2024-07-16T10:25:32.936454",
   "version": "2.5.0"
  }
 },
 "nbformat": 4,
 "nbformat_minor": 5
}
